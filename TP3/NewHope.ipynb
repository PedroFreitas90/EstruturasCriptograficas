{
 "cells": [
  {
   "cell_type": "markdown",
   "metadata": {},
   "source": [
    "# Exercício 1 - NewHope"
   ]
  },
  {
   "cell_type": "markdown",
   "metadata": {},
   "source": [
    "Neste exercício temos de implementar uma classe em Python que implemente um protótipo do esquema NewHope de acordo com a candidatura ao concurso NIST-PQC.\n",
    "Uma vez que os algoritmos e a forma como funcionam são públicos, o grupo apenas precisou de compreender como cada um deles funciona, transformando essa ideia para o SageMath."
   ]
  },
  {
   "cell_type": "code",
   "execution_count": 1,
   "metadata": {},
   "outputs": [],
   "source": [
    "import hashlib\n",
    "import random\n",
    "import math"
   ]
  },
  {
   "cell_type": "markdown",
   "metadata": {},
   "source": [
    "## Parâmetros"
   ]
  },
  {
   "cell_type": "code",
   "execution_count": 2,
   "metadata": {},
   "outputs": [],
   "source": [
    "n = 1024  \n",
    "q = 12289\n",
    "_7n_4=1792\n",
    "_3n_8 = 384\n",
    "q= 12289\n",
    "k= 8\n",
    "\n",
    "\n",
    "F = GF(q) ;  R = PolynomialRing(F, name=\"w\")\n",
    "w = (R).gen(); w = w\n",
    "\n",
    "g = (w^n + 1)\n",
    "xi = g.roots(multiplicities=False)[-1]\n",
    "rs = [xi^(2*i+1)  for i in range(n)] \n",
    "base = crt_basis([(w - r) for r in rs])\n",
    "           "
   ]
  },
  {
   "cell_type": "markdown",
   "metadata": {},
   "source": [
    "## Funções auxiliares"
   ]
  },
  {
   "cell_type": "code",
   "execution_count": 3,
   "metadata": {},
   "outputs": [],
   "source": [
    "def hamming_weight( num):\n",
    "    weight = 0\n",
    "\n",
    "    while num:\n",
    "        weight += 1\n",
    "        num &= num - 1\n",
    "\n",
    "    return weight\n",
    "\n",
    "def bitRev( v):\n",
    "    s = 0\n",
    "    for i in range(0, int(math.log(n,2))):\n",
    "        s += (((v >> i) & 1) << (math.log(n,2)-1-i))\n",
    "    return s\n",
    "\n",
    "def PolyBitRev( p):\n",
    "    r  = [None] * n\n",
    "    for i in range(0, n):\n",
    "        r[bitRev(i)] = p[i]\n",
    "    return r\n",
    "\n",
    "\n",
    "def Poly_mult( c1, c2):\n",
    "    r = [None] * n\n",
    "    for i in range(0, n):\n",
    "        r[i] =  (c1[i]*c2[i] % q)\n",
    "    return r\n",
    "\n",
    "def Poly_add( c1, c2):\n",
    "    r = [None] * n\n",
    "    for i in range(0, n):\n",
    "        r[i] =  (c1[i]+c2[i] % q)\n",
    "    return r\n",
    "\n",
    "def PolySubtract(c1, c2):\n",
    "    r = [None] * n\n",
    "    for i in range(0, n):\n",
    "        r[i] =  (c1[i]-c2[i] % q)\n",
    "    return r\n"
   ]
  },
  {
   "cell_type": "code",
   "execution_count": 4,
   "metadata": {},
   "outputs": [],
   "source": [
    "'''\n",
    "Number-theoretic transform\n",
    "'''\n",
    "def ntt(f):\n",
    "    def _expand_(f): \n",
    "        u = f.list()\n",
    "        return u + [0]*(n-len(u)) \n",
    "\n",
    "    def _ntt_(xi,N,f):\n",
    "        if N==1:\n",
    "            return f\n",
    "        N_ = N/2 ; xi2 =  xi^2  \n",
    "        f0 = [f[2*i]   for i in range(N_)] ; f1 = [f[2*i+1] for i in range(N_)] \n",
    "        ff0 = _ntt_(xi2,N_,f0) ; ff1 = _ntt_(xi2,N_,f1)  \n",
    "\n",
    "        s  = xi ; ff = [F(0) for i in range(N)] \n",
    "        for i in range(N_):\n",
    "            a = ff0[i] ; b = s*ff1[i]  \n",
    "            ff[i] = a + b ; ff[i + N_] = a - b \n",
    "            s = s * xi2                     \n",
    "        return ff \n",
    "\n",
    "    return _ntt_(xi,n,_expand_(f))\n",
    "\n",
    "def ntt_inv(ff):                           \n",
    "    return sum([ff[i]*base[i] for i in range(n)])\n"
   ]
  },
  {
   "cell_type": "markdown",
   "metadata": {},
   "source": [
    "## Algoritmos implementados de acordo com a documentação da candidatura "
   ]
  },
  {
   "cell_type": "code",
   "execution_count": 5,
   "metadata": {},
   "outputs": [],
   "source": [
    "'''\n",
    "Algorithm 1 NewHope-CPA-PKE Key Generation\n",
    "'''\n",
    "def NewHope_CPA_PKE_Gen():\n",
    "    seed = bytearray(os.urandom(32))\n",
    "    z = hashlib.shake_256(b'0x01'+seed).digest(int(64))\n",
    "    publicseed = z[0:32]\n",
    "    noiseseed = z[32:64]\n",
    "    _a =GenA(publicseed)\n",
    "    s = PolyBitRev(Sample(noiseseed,0))\n",
    "    e = PolyBitRev(Sample(noiseseed,1))\n",
    "    _s = ntt(R(s))\n",
    "    _e = ntt(R(e))\n",
    "    aux =  Poly_mult(_a, _s)\n",
    "    _b = Poly_add(aux, _e)\n",
    "    print(\"Computing public key pk\")\n",
    "    pk = EncodePK( _b, publicseed)\n",
    "\n",
    "    print(\"Computing secret key sk\")\n",
    "    sk =EncodePoly(_s)\n",
    "\n",
    "    print(\"Public key generation complete. Returning keys\")\n",
    "\n",
    "    return pk, sk"
   ]
  },
  {
   "cell_type": "code",
   "execution_count": 6,
   "metadata": {},
   "outputs": [],
   "source": [
    "'''\n",
    "Algorithm 2 NewHope-CPA-PKE Encryption\n",
    "'''\n",
    "def NewHope_CPA_PKE_Encrypt( pk, message, coin):\n",
    "    _b, publicseed = DecodePK(pk)\n",
    "    _a = GenA(publicseed)\n",
    "    _s = PolyBitRev(Sample(coin,0))\n",
    "    _e = PolyBitRev(Sample(coin,1))\n",
    "    __e = Sample(coin,2)\n",
    "    _t = ntt(R(_s))\n",
    "    e_ntt = ntt(R(_e))\n",
    "    __a = Poly_mult(_a, _t)\n",
    "    u_hat = Poly_add( __a, e_ntt)\n",
    "\n",
    "    v = EncodeMsg(message)\n",
    "\n",
    "    bhat_that = Poly_mult(_b, _t)\n",
    "    ntt_temp = ntt_inv(bhat_that)\n",
    "\n",
    "    sum1 = Poly_add(ntt_temp, __e)\n",
    "    v_prime = Poly_add(sum1, v)\n",
    "    h = Compress(v_prime)\n",
    "    c = EncodeC(u_hat, h)\n",
    "    return c"
   ]
  },
  {
   "cell_type": "code",
   "execution_count": 7,
   "metadata": {},
   "outputs": [],
   "source": [
    "'''\n",
    "Algorithm 3 NewHope-CPA-PKE Decryption\n",
    "'''\n",
    "def NewHope_CPA_PKE_Decrypt( c, sk):\n",
    "    print(\"========================== Decrypting Message ==========================\")\n",
    "    u_hat, h = DecodeC(c)\n",
    "    s_hat = DecodePoly(sk)\n",
    "    v_prime = Decompress(h)\n",
    "    us_product = Poly_mult(u_hat, s_hat)\n",
    "    inv_product = ntt_inv(us_product)\n",
    "    v_sub = PolySubtract(v_prime, inv_product)\n",
    "    m = DecodeMsg(v_sub)\n",
    "    return m"
   ]
  },
  {
   "cell_type": "code",
   "execution_count": 8,
   "metadata": {},
   "outputs": [],
   "source": [
    "'''\n",
    "Algorithm 4 Deterministic sampling of polynomials in R q from ψ 8 n\n",
    "'''\n",
    "def Sample( seed, nounce):\n",
    "    r = [None] * n\n",
    "    extseed = bytearray(random.sample(range(0, 256), 34))\n",
    "    extseed[0:32] = seed[0:32]\n",
    "    extseed[32] = nounce\n",
    "    for i in range (0,int(n/64)):\n",
    "        extseed[33] = i\n",
    "        buf = hashlib.shake_256(extseed).digest(int(128))\n",
    "        for j in range(0,64):\n",
    "            a = buf[2*j]\n",
    "            b = buf[2*j+1]\n",
    "            val = hamming_weight(a) + q - (hamming_weight(b) % q)\n",
    "            r[i*64+j] = val\n",
    "    return r"
   ]
  },
  {
   "cell_type": "code",
   "execution_count": 9,
   "metadata": {},
   "outputs": [],
   "source": [
    "'''\n",
    "Algorithm 5 Deterministic generation of â by expansion of a seed\n",
    "'''\n",
    "def GenA(seed):\n",
    "    a = [None] * n\n",
    "    extseed = bytearray(random.sample(range(0, 256), 33))\n",
    "    extseed[0:32] = seed[0:32]\n",
    "    for i in range(0, int(n/64)):\n",
    "        ctr = 0\n",
    "        extseed[32] = i\n",
    "        state = hashlib.shake_128(extseed)\n",
    "        while ctr < 64:\n",
    "            buf = state.digest(int(168))\n",
    "            j = 0\n",
    "            while j<168 and ctr<64:\n",
    "                val = buf[j] | (buf[j+1] << 8)\n",
    "                if val < 5*q:\n",
    "                    a[i*64+ctr] = val\n",
    "                    ctr += 1\n",
    "                j += 2\n",
    "    return a"
   ]
  },
  {
   "cell_type": "code",
   "execution_count": 10,
   "metadata": {},
   "outputs": [],
   "source": [
    "'''\n",
    "Algorithm 6 Encoding of a polynomial in R q to a byte array\n",
    "'''\n",
    "def EncodePoly(s):\n",
    "    r = [None]*_7n_4\n",
    "    for i in range(0, 256):\n",
    "        t0 = int( s[(4*i)+0] % q )\n",
    "        t1 = int( s[(4*i)+1] % q )\n",
    "        t2 = int( s[(4*i)+2] % q )\n",
    "        t3 = int( s[(4*i)+3] % q )\n",
    "        r[(7*i)+0] = t0 & int(0xff)\n",
    "        r[(7*i)+1] = (t0 >> 8) | ((t1 << 6)%4294967296) & int(0xff)\n",
    "        r[(7*i)+2] = (t1 >> 2) & int(0xff)\n",
    "        r[(7*i)+3] = (t1 >> 10) | ((t2 << 4)%4294967296) & int(0xff)\n",
    "        r[(7*i)+4] = (t2 >> 4) & int(0xff)\n",
    "        r[(7*i)+5] = (t2 >> 12) | ((t3 << 2)%4294967296) & int(0xff)\n",
    "        r[(7*i)+6] = (t3 >> 6) & int(0xff)\n",
    "    return r"
   ]
  },
  {
   "cell_type": "code",
   "execution_count": 11,
   "metadata": {},
   "outputs": [],
   "source": [
    "'''\n",
    "Algorithm 7 Decoding of a polynomial represented as a byte array into an element in R q\n",
    "'''\n",
    "def DecodePoly( v):\n",
    "    print('Starting decoding polynomial')\n",
    "    r = [None]*n\n",
    "    for i in range(0, 256):\n",
    "        r[(4*i)+0] = int(v[(7*i)+0]) | (((int(v[(7*i)+1])&int(0x3f))<<8)%4294967296)\n",
    "        r[(4*i)+1] = (int(v[(7*i)+1]) >> 6) | ((int(v[(7*i)+2]) << 2)%4294967296) | (((int(v[(7*i)+3])&int(0x0f))<<10)%4294967296)\n",
    "        r[(4*i)+2] = (int(v[(7*i)+3]) >> 4) | ((int(v[(7*i)+4]) << 4)%4294967296) | (((int(v[(7*i)+5])&int(0x03))<<12)%4294967296)\n",
    "        r[(4*i)+3] = (int(v[(7*i)+5]) >> 2) | ((int(v[(7*i)+6]) << 6)%4294967296)\n",
    "    print('Done decoding polynomial')\n",
    "    return r"
   ]
  },
  {
   "cell_type": "code",
   "execution_count": 12,
   "metadata": {},
   "outputs": [],
   "source": [
    "'''\n",
    "Algorithm 8 Encoding of the public key\n",
    "'''\n",
    "def EncodePK( b_hat, publicseed):\n",
    "    r = [None]*int(_7n_4 + 32)\n",
    "    r[0:_7n_4] = EncodePoly(b_hat)\n",
    "    r[_7n_4:] = publicseed\n",
    "    return r"
   ]
  },
  {
   "cell_type": "code",
   "execution_count": 13,
   "metadata": {},
   "outputs": [],
   "source": [
    "'''\n",
    "Algorithm 9 Decoding of the public key\n",
    "'''\n",
    "def DecodePK( pk):\n",
    "    print('Starting decoding public key')\n",
    "    b_hat = DecodePoly(pk[0:_7n_4])\n",
    "    seed = pk[_7n_4:]\n",
    "    print('Done decoding public key')\n",
    "    return b_hat, seed"
   ]
  },
  {
   "cell_type": "code",
   "execution_count": 14,
   "metadata": {},
   "outputs": [],
   "source": [
    "'''\n",
    "Algorithm 10 Message encoding\n",
    "'''\n",
    "def EncodeMsg( m):\n",
    "    v = [None]*n\n",
    "    for i in range(0, 32):\n",
    "        for j in range(0, 8):\n",
    "            mask = int(-((int(m[i]>>j))&int(1)))\n",
    "            v[(8*i)+j+0] = int(mask&(q//2)) \n",
    "            v[(8*i)+j+256] = int(mask&(q//2)) \n",
    "            v[(8*i)+j+512] = int(mask&(q//2)) \n",
    "            v[(8*i)+j+768] = int(mask&(q//2)) \n",
    "    return v"
   ]
  },
  {
   "cell_type": "code",
   "execution_count": 15,
   "metadata": {},
   "outputs": [],
   "source": [
    "'''\n",
    "Algorithm 11 Message decoding\n",
    "'''\n",
    "def DecodeMsg( v):\n",
    "    m = [0]*32\n",
    "    for i in range(0, 256):\n",
    "        t = abs(int((v[i+0])%q) - int((q)//2))\n",
    "        t = t + abs(int(((v[i+256])%q) - int((q)//2)))\n",
    "        t = t + abs(int(((v[i+512])%q) - int((q)//2)))\n",
    "        t = t + abs(int(((v[i+768])%q) - int((q)//2)))\n",
    "        t = t - q\n",
    "        t = t >> 15\n",
    "        m[i>>3] = int(m[i>>3]) | -(int(t)<<int(i&7))\n",
    "    return m"
   ]
  },
  {
   "cell_type": "code",
   "execution_count": 16,
   "metadata": {},
   "outputs": [],
   "source": [
    "'''\n",
    "Algorithm 12 Ciphertext compression\n",
    "'''\n",
    "def Compress( v):\n",
    "    k = 0\n",
    "    t = [None]*8\n",
    "    h = [None]*_3n_8\n",
    "    for l in range(0, 128):\n",
    "        i = 8*l\n",
    "        for j in range(0, 8):\n",
    "            t[j] = int(v[i+j] % q)\n",
    "            t[j] = (((int(t[j]<<3))+q//2)//q) & int(0x7)\n",
    "        h[k+0] = (t[0] | ((t[1]<<3)) | ((t[2]<<6))) #%256\n",
    "        h[k+1] = ((t[2]>>2) | ((t[3]<<1)) | ((t[4]<<4)) | ((t[5]<<7))) #%256\n",
    "        h[k+2] = ((t[5]>>1) | ((t[6]<<2)) | ((t[7]<<5))) #%256\n",
    "        k += 3\n",
    "    return h\n"
   ]
  },
  {
   "cell_type": "code",
   "execution_count": 17,
   "metadata": {},
   "outputs": [],
   "source": [
    "'''\n",
    "Algorithm 13 Ciphertext encoding\n",
    "'''\n",
    "def EncodeC(u, h):\n",
    "    c = [None]*(_7n_4 + _3n_8)\n",
    "    c[0:_7n_4] = EncodePoly(u)\n",
    "    c[_7n_4:] = h\n",
    "    return c"
   ]
  },
  {
   "cell_type": "code",
   "execution_count": 18,
   "metadata": {},
   "outputs": [],
   "source": [
    "'''\n",
    "Algorithm 14 Ciphertext decoding\n",
    "'''\n",
    "def DecodeC( c):\n",
    "    u = DecodePoly(c[0:_7n_4])\n",
    "    h = c[_7n_4:]\n",
    "    return u, h\n"
   ]
  },
  {
   "cell_type": "code",
   "execution_count": 19,
   "metadata": {},
   "outputs": [],
   "source": [
    "'''\n",
    "Algorithm 15 Ciphertext decompression\n",
    "'''\n",
    "def Decompress( h):\n",
    "    r = [None]*n\n",
    "    k = 0\n",
    "    for l in range(0, 128):\n",
    "        i = 8*l\n",
    "        r[i+0] = h[k+0] & 7\n",
    "        r[i+1] = (h[k+0]>>3) & 7\n",
    "        r[i+2] = (h[k+0]>>6) | (((h[1]<<2))&4)\n",
    "        r[i+3] = (h[k+1]>>1) & 7\n",
    "        r[i+4] = (h[k+1]>>4) & 7\n",
    "        r[i+5] = (h[k+1]>>7) | (((h[2]<<1))&6)\n",
    "        r[i+6] = (h[k+2]>>2) & 7\n",
    "        r[i+7] = (h[k+2]>>5)\n",
    "        k = k +3\n",
    "        for j in range(0, 8):\n",
    "            r[i+j] = (((r[i+j])*q)+4)>>3\n",
    "    return r\n"
   ]
  },
  {
   "cell_type": "markdown",
   "metadata": {},
   "source": [
    "## Testes"
   ]
  },
  {
   "cell_type": "code",
   "execution_count": 20,
   "metadata": {},
   "outputs": [
    {
     "name": "stdout",
     "output_type": "stream",
     "text": [
      "Computing public key pk\n",
      "Computing secret key sk\n",
      "Public key generation complete. Returning keys\n"
     ]
    }
   ],
   "source": [
    "pk, sk = NewHope_CPA_PKE_Gen()"
   ]
  },
  {
   "cell_type": "code",
   "execution_count": 21,
   "metadata": {},
   "outputs": [
    {
     "name": "stdout",
     "output_type": "stream",
     "text": [
      "Starting decoding public key\n",
      "Starting decoding polynomial\n",
      "Done decoding polynomial\n",
      "Done decoding public key\n",
      "========================== Decrypting Message ==========================\n",
      "Starting decoding polynomial\n",
      "Done decoding polynomial\n",
      "Starting decoding polynomial\n",
      "Done decoding polynomial\n",
      "========================== Here is the original message and recovered message ==========================\n",
      "[225, 235, 49, 214, 170, 104, 167, 11, 44, 191, 245, 93, 225, 169, 110, 109, 210, 245, 50, 76, 61, 222, 120, 169, 152, 103, 251, 147, 188, 248, 161, 144]\n",
      "[64, 32, 0, 16, 2, 8, 4, 0, 0, 49, 0, 64, 97, 32, 40, 13, 0, 0, 0, 64, 32, 132, 64, 160, 8, 4, 168, 0, 0, 0, 0, 0]\n"
     ]
    }
   ],
   "source": [
    "coin = bytearray(random.sample(range(0, 256), 32))\n",
    "message = [225, 235, 49, 214, 170, 104, 167, 11, 44, 191, 245, 93, 225, 169, 110, 109, 210, 245, 50, 76, 61, 222, 120, 169, 152, 103, 251, 147, 188, 248, 161, 144]\n",
    "c = NewHope_CPA_PKE_Encrypt(pk, message, coin)\n",
    "t = NewHope_CPA_PKE_Decrypt(c, sk)\n",
    "print(\"========================== Here is the original message and recovered message ==========================\")\n",
    "print(message)\n",
    "print(t)"
   ]
  },
  {
   "cell_type": "code",
   "execution_count": null,
   "metadata": {},
   "outputs": [],
   "source": [
    "m = [225, 235, 49, 214, 170, 104, 167, 11, 44, 191, 245, 93, 225, 169, 110, 109, 210, 245, 50, 76, 61, 222, 120, 169, 152, 103, 251, 147, 188, 248, 161, 144]\n",
    "v_prime = EncodeMsg(m)\n",
    "m_= DecodeMsg(v_prime)\n",
    "if(m_ == m):\n",
    "        print(\"trueeeee\")\n",
    "for i in range(0,1):\n",
    "    c = Compress(v_prime)\n",
    "    print(c)\n",
    "    print(v_prime)\n",
    "    m__ = Decompress(c)\n",
    "    print(m__)\n",
    "    if(v_prime == m__):\n",
    "        print(\"trueeeee\")\n",
    "    f = DecodeMsg(m__)\n",
    "    if (f== m):\n",
    "        print(\"niceee\")"
   ]
  },
  {
   "cell_type": "markdown",
   "metadata": {},
   "source": [
    "## KEM-IND-CPA"
   ]
  },
  {
   "cell_type": "code",
   "execution_count": 22,
   "metadata": {},
   "outputs": [],
   "source": [
    "    ''' \n",
    "    Algorithm 16 NewHope-CPA-KEM Key Generation\n",
    "    '''\n",
    "    def NewHope_CPA_KEM_Gen():\n",
    "        pk, sk = NewHope_CPA_PKE_Gen()\n",
    "        return (pk,sk)\n",
    "    \n",
    "    '''\n",
    "    Algorithm 17 NewHope-CPA-KEM Encapsulation\n",
    "    '''\n",
    "    def NewHope_CPA_KEM_Encapsulation( pk):\n",
    "        coin = (random.sample(range(0, 256), 32))\n",
    "        z = hashlib.shake_256(b'0x02'+coin).digest(64)\n",
    "        k = z[0:32]\n",
    "        coin_hat = z[32:]\n",
    "        c = NewHope_CPA_PKE_Encrypt(pk, k, coin_hat)\n",
    "        ss = hashlib.shake_256(k).digest(32)\n",
    "\n",
    "        return (c,ss)\n",
    "\n",
    "    '''\n",
    "    Algorithm 18 NewHope-CPA-KEM Decapsulation\n",
    "    '''\n",
    "    def NewHope_CPA_KEM_Decapsulation ( c,sk):\n",
    "        k_hat= NewHope_CPA_PKE_Decrypt(c,sk)\n",
    "        ss2 = hashlib.shake_256(k_hat).digest(32)\n",
    "        return ss2    "
   ]
  }
 ],
 "metadata": {
  "kernelspec": {
   "display_name": "SageMath 9.0",
   "language": "sage",
   "name": "sagemath"
  },
  "language_info": {
   "codemirror_mode": {
    "name": "ipython",
    "version": 3
   },
   "file_extension": ".py",
   "mimetype": "text/x-python",
   "name": "python",
   "nbconvert_exporter": "python",
   "pygments_lexer": "ipython3",
   "version": "3.7.6"
  }
 },
 "nbformat": 4,
 "nbformat_minor": 2
}
