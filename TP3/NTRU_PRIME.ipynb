{
 "cells": [
  {
   "cell_type": "markdown",
   "metadata": {},
   "source": [
    "# NTRU PRIME - KEM"
   ]
  },
  {
   "cell_type": "markdown",
   "metadata": {},
   "source": [
    "## Parâmetros"
   ]
  },
  {
   "cell_type": "code",
   "execution_count": 1,
   "metadata": {},
   "outputs": [
    {
     "name": "stdout",
     "output_type": "stream",
     "text": [
      "Univariate Quotient Polynomial Ring in x over Integer Ring with modulus x^761 - x - 1\n",
      "Univariate Quotient Polynomial Ring in x over Finite Field of size 3 with modulus x^761 + 2*x + 2\n",
      "Univariate Quotient Polynomial Ring in x over Finite Field of size 4591 with modulus x^761 + 4590*x + 4590\n"
     ]
    }
   ],
   "source": [
    "p = 761\n",
    "q = 4591\n",
    "t = 143\n",
    "\n",
    "Zx.<x> = ZZ[]\n",
    "#R.<xp> = Zx.quotient(x^p - x - 1)\n",
    "R.<x> = Zx.quotient(x^p - x - 1)\n",
    "print(R)\n",
    "\n",
    "F3 = GF(3)\n",
    "#F3x.<x3> = F3[]\n",
    "#R3.<xp3> = F3x.quotient(x^p - x - 1)\n",
    "F3x.<x> = F3[]\n",
    "R3.<x> = F3x.quotient(x^p - x - 1)\n",
    "print(R3)\n",
    "\n",
    "Fq = GF(q)\n",
    "#Fqx.<xq> = Fq[]\n",
    "#Rq.<xqp> = Fqx.quotient(x^p - x - 1)\n",
    "Fqx.<x> = Fq[]\n",
    "Rq.<x> = Fqx.quotient(x^p - x - 1)\n",
    "print(Rq)"
   ]
  },
  {
   "cell_type": "markdown",
   "metadata": {},
   "source": [
    "### Validação dos Parâmetros"
   ]
  },
  {
   "cell_type": "code",
   "execution_count": 2,
   "metadata": {},
   "outputs": [
    {
     "name": "stdout",
     "output_type": "stream",
     "text": [
      "Parâmetros válidos!\n"
     ]
    }
   ],
   "source": [
    "def params_validation():\n",
    "    try:\n",
    "        assert p.is_prime()\n",
    "        #print('p primo!')\n",
    "        assert q.is_prime()\n",
    "        #print('q primo!')\n",
    "        assert t > 1\n",
    "        #print('t>1!')\n",
    "        assert p > 3*t\n",
    "        #print('p>3t')\n",
    "        assert q > 32*t + 1\n",
    "        #print('q>32t + 1')\n",
    "    except:\n",
    "        print('Parâmetros inválidos!')\n",
    "        return\n",
    "    print('Parâmetros válidos!')\n",
    "\n",
    "params_validation()"
   ]
  },
  {
   "cell_type": "markdown",
   "metadata": {},
   "source": [
    "## Métodos de transformação"
   ]
  },
  {
   "cell_type": "code",
   "execution_count": 3,
   "metadata": {},
   "outputs": [],
   "source": [
    "q12 = 2295 # q12 = (q//2)\n",
    "\n",
    "def Rq_fromR(r):\n",
    "    assert r in R\n",
    "    ret = Rq([r[i] for i in range(p)])\n",
    "    assert ret in Rq\n",
    "    return ret\n",
    "\n",
    "def R3_fromR(r):\n",
    "    assert r in R\n",
    "    return R3([r[i] for i in range(p)])\n",
    "\n",
    "def nicelift(u):\n",
    "    return lift(u + q12) - q12\n",
    "    \n",
    "def nicemod3(u): # r in {0,1,-1} with u-r in {...,-3,0,3,...}\n",
    "    return u - 3*round(u/3)"
   ]
  },
  {
   "cell_type": "markdown",
   "metadata": {},
   "source": [
    "## Funções de verificação"
   ]
  },
  {
   "cell_type": "code",
   "execution_count": 4,
   "metadata": {},
   "outputs": [],
   "source": [
    "'''\n",
    "Função que verifica se um elemento de R é Small:\n",
    "    Todos os coeficientes em {-1,0,1}\n",
    "'''\n",
    "def is_Small(r):\n",
    "    assert r in R\n",
    "    return all( abs(r[i]) <= 1 for i in range(p) )\n",
    "\n",
    "'''\n",
    "Função que verifica se um elemento tem Hamming Weight de 2t :\n",
    "    (#coeficientes != 0) == (2*t)\n",
    "'''\n",
    "def is_HammingWeight(r):\n",
    "    assert r in R\n",
    "    return (2*t) == len([i for i in range(p) if r[i] != 0])\n",
    "\n",
    "'''\n",
    "Função que verifica se um elemento de R é tsmall:\n",
    "    Small and HammingWeight\n",
    "'''\n",
    "def is_tSmall(r):\n",
    "    assert r in R\n",
    "    return is_Small(r) and is_HammingWeight(r)"
   ]
  },
  {
   "cell_type": "markdown",
   "metadata": {},
   "source": [
    "## Métodos de codificação"
   ]
  },
  {
   "cell_type": "code",
   "execution_count": 5,
   "metadata": {},
   "outputs": [],
   "source": [
    "import itertools\n",
    "\n",
    "def concat(l):\n",
    "    return list(itertools.chain.from_iterable(l))\n",
    "\n",
    "q12 = 2295 # (q12 = ((q-1)/2))"
   ]
  },
  {
   "cell_type": "code",
   "execution_count": 6,
   "metadata": {},
   "outputs": [],
   "source": [
    "# --------------------------------------------------- ENCODING ---------------------------------------------------- #\n",
    "def blocks_encode(u,radix,batch):\n",
    "    l =[]\n",
    "    for i in range(0, len(u), batch):\n",
    "        total = 0\n",
    "        #print('posição do bloco: ' + str(i))\n",
    "        for t in range(0,batch):\n",
    "           # print('u[%d + %d] = %d',i,t,u[i+t])\n",
    "            total += u[i+t] * radix^t\n",
    "            #print('total: %d', total)\n",
    "        l.append(total)\n",
    "        #print(l)\n",
    "    return l\n",
    "\n",
    "def block_decode(u,radix,batch):\n",
    "    return concat([(u[i]//radix^j)%radix for j in range(batch)] for i in range(len(u)))\n",
    "\n",
    "# --------------------------------------------------- ENCODING ---------------------------------------------------- #"
   ]
  },
  {
   "cell_type": "code",
   "execution_count": 7,
   "metadata": {},
   "outputs": [],
   "source": [
    "# ------------------------------------------------------ Rq ------------------------------------------------------- #\n",
    "'''\n",
    "Este método começa por transformar os elementos de h (que estão em Rq).\n",
    "Vamos transformar esses elementos de forma a eles estarem no intervalo [0,4590]:\n",
    "    Recebe o h e transforma os elementos no intervalo ]-(q/2)-1, (q/2)-1[.\n",
    "    Adiciona q/2.\n",
    "\n",
    "Após essa tranformação, pegamos na lista resultante(h1) e codificamos\n",
    "'''\n",
    "def encodeRq(h):\n",
    "    h1 = [q12 + nicelift(h[i]) for i in range(p)]+[0]*(-p % 5)\n",
    "    #print(h1)\n",
    "    return blocks_encode(h1,6144,5)\n",
    "    #return seq2str(h1,6144,5,8)[:1218]\n",
    "'''\n",
    "Este método começa por transformar a sequencia em uma lista de inteiros.\n",
    "Depois verifica se a lista tem algum valor fora dos admitiveis\n",
    "Por fim percorre essa lista e subtrai por q/2 (para anular a soma efectuada no encode)\n",
    "'''\n",
    "def decodeRq(hstr):\n",
    "    h = block_decode(hstr,6144,5)\n",
    "    #print(h)\n",
    "    if max(h) >= q: \n",
    "        raise Exception(\"pk out of range\")\n",
    "    return Rq([h[i]-q12 for i in range(p)])\n",
    "\n",
    "# ------------------------------------------------------ Rq ------------------------------------------------------- #"
   ]
  },
  {
   "cell_type": "code",
   "execution_count": 8,
   "metadata": {},
   "outputs": [],
   "source": [
    "# ------------------------------------------------------ Zx-------------------------------------------------------- #\n",
    "'''\n",
    "Este método é responsável por codificar um elemento de Zx. \n",
    "Para tal vamos pegar no valor que recebemos e a cada coeficiente vamos adicionar 1 de forma a obtermos coeficientes no\n",
    "intervalo [0,1,2]. \n",
    "Após isso vamos escrever um conjunto de 4 elementos em radix 4, obtendo assim um byte.\n",
    "'''\n",
    "def encodeZx(m): # assumes coefficients in range {-1,0,1}\n",
    "    m = [m[i]+1 for i in range(p)] + [0]*(-p % 4)  \n",
    "    return blocks_encode(m,4,4)#seq2str(m,4,4,1)\n",
    "\n",
    "\n",
    "def decodeZx(mstr):\n",
    "    m = str2seq(mstr,4,4,1)  \n",
    "    return Zx([m[i]-1 for i in range(p)])\n",
    "# ------------------------------------------------------ Zx-------------------------------------------------------- #"
   ]
  },
  {
   "cell_type": "code",
   "execution_count": 9,
   "metadata": {},
   "outputs": [],
   "source": [
    "# --------------------------------------------------- RoundRq------------------------------------------------------ #\n",
    "q61 = ZZ((q-1)/6)\n",
    "'''\n",
    "Neste método vamos codificar elementos de rounded rings.\n",
    "'''\n",
    "def encoderoundedRq(c):\n",
    "    c = [q61 + nicelift(c[i]/3) for i in range(p)] + [0]*(-p % 6)\n",
    "    return blocks_encode(c,1536,3)\n",
    "\n",
    "def decoderoundedRq(cstr):\n",
    "    c = block_decode(cstr,1536,3)\n",
    "    if max(c) > 1530: \n",
    "        raise Exception(\"c out of range\")\n",
    "    c = [ci%(q61*2+1) for ci in c]\n",
    "    return 3*Rq([c[i]-q61 for i in range(p)])\n",
    "# --------------------------------------------------- RoundRq------------------------------------------------------ #"
   ]
  },
  {
   "cell_type": "markdown",
   "metadata": {},
   "source": [
    "## Geradores"
   ]
  },
  {
   "cell_type": "code",
   "execution_count": 10,
   "metadata": {},
   "outputs": [],
   "source": [
    "def random8(): \n",
    "    return randrange(256)\n",
    "\n",
    "'''\n",
    "c0 + 256c1 + 256^2 * c2 + 256^3 *c3\n",
    "'''\n",
    "def urandom32():\n",
    "    c0 = random8()\n",
    "    c1 = random8()\n",
    "    c2 = random8()\n",
    "    c3 = random8()\n",
    "    return c0 + 256*c1 + 65536*c2 + 16777216*c3\n",
    "\n",
    "def random32even(): return urandom32() & (-2)\n",
    "def random321mod4(): return (urandom32() & (-3)) | 1\n",
    "\n",
    "def randomrange3():\n",
    "    return ((urandom32() & 0x3fffffff) * 3) >> 30\n",
    "\n",
    "def randomg():\n",
    "    g = Zx([randomrange3()-1 for i in range(p)])\n",
    "    assert R3(g).is_unit()\n",
    "    return g\n",
    "\n",
    "def random_tSmall():\n",
    "    L = [random32even() for i in range(2*t)]\n",
    "    L += [random321mod4() for i in range(p-2*t)]\n",
    "    L.sort()\n",
    "    L = [(L[i]%4)-1 for i in range(p)]\n",
    "    return Zx(L)\n",
    "\n",
    "def generateG():\n",
    "    while True:\n",
    "        g = randomg()\n",
    "        print('GenerateG: Random Small Gerado')\n",
    "        if R3_fromR(g).is_unit(): \n",
    "            print('GenerateG: É irredutível em R3')\n",
    "            break\n",
    "        else:\n",
    "            print('GenerateG: Não é irredutível...')\n",
    "    return g"
   ]
  },
  {
   "cell_type": "markdown",
   "metadata": {},
   "source": [
    "## KeyGen"
   ]
  },
  {
   "cell_type": "code",
   "execution_count": 11,
   "metadata": {},
   "outputs": [
    {
     "name": "stdout",
     "output_type": "stream",
     "text": [
      "GenerateG: Random Small Gerado\n",
      "GenerateG: É irredutível em R3\n",
      "_KeyGen_: Temos **g**.\n",
      "_KeyGen_: Temos **f**.\n",
      "_KeyGen_: Temos **h**.\n",
      "\n",
      "_KeyGen_: Temos **pk**.\n",
      "_KeyGen_: Temos o **segredo**.\n"
     ]
    }
   ],
   "source": [
    "def keyGen():\n",
    "    g = generateG()\n",
    "    print('_KeyGen_: Temos **g**.')\n",
    "    \n",
    "    inv_g = 1/R3(g)\n",
    "    \n",
    "    f = random_tSmall()\n",
    "    print('_KeyGen_: Temos **f**.')\n",
    "    \n",
    "    h = Rq(g)/(3*Rq(f))\n",
    "    print('_KeyGen_: Temos **h**.')\n",
    "    \n",
    "    pk = encodeRq(h)\n",
    "    pk = R(pk)\n",
    "    print('\\n_KeyGen_: Temos **pk**.')\n",
    "\n",
    "    secret = (f,inv_g,pk)\n",
    "    print('_KeyGen_: Temos o **segredo**.')\n",
    "    \n",
    "    return pk, secret\n",
    "\n",
    "pk, secret = keyGen()"
   ]
  },
  {
   "cell_type": "code",
   "execution_count": 12,
   "metadata": {},
   "outputs": [
    {
     "name": "stdout",
     "output_type": "stream",
     "text": [
      "_Encapsulate_: Temos **h**.\n",
      "_Encapsulate_: Temos **r**.\n",
      "_Encapsulate_: Temos **hr**.\n",
      "_Encapsulate_: Temos **c**.\n",
      "_Encapsulate_: Temos **Confirmation C**.\n",
      "\n",
      "_Encapsulate_: Temos **Secret Key K**.\n",
      "_Encapsulate_: Temos **encoded c**.\n"
     ]
    }
   ],
   "source": [
    "def encapsulate(pk):\n",
    "    h = decodeRq(list(pk))\n",
    "    print('_Encapsulate_: Temos **h**.')\n",
    "    \n",
    "    r = random_tSmall()\n",
    "    print('_Encapsulate_: Temos **r**.')\n",
    "    #print(r)\n",
    "    \n",
    "    hr = h*Rq_fromR(r)\n",
    "    print('_Encapsulate_: Temos **hr**.')\n",
    "\n",
    "    m = Zx([-nicemod3(nicelift(hr[i])) for i in range(p)]) #m é hr transformado em {-1,0,1}\n",
    "    \n",
    "    c = Rq(m) + hr\n",
    "    print('_Encapsulate_: Temos **c**.')\n",
    "    \n",
    "    hashR = encodeZx(r)\n",
    "    C = hashR[0:95]\n",
    "    print('_Encapsulate_: Temos **Confirmation C**.')\n",
    "    \n",
    "    K = hashR[95:]\n",
    "    print('\\n_Encapsulate_: Temos **Secret Key K**.')\n",
    "    \n",
    "    encoded_c = encoderoundedRq(c)\n",
    "    print('_Encapsulate_: Temos **encoded c**.')\n",
    "    \n",
    "    return (C,encoded_c), R(K)\n",
    "\n",
    "cipherText, sessionKey = encapsulate(pk)\n",
    "\n",
    "#cipherText = C + encoded_c\n",
    "#sessionKey = K"
   ]
  },
  {
   "cell_type": "code",
   "execution_count": 13,
   "metadata": {},
   "outputs": [
    {
     "name": "stdout",
     "output_type": "stream",
     "text": [
      "_Decapsulate_: Temos **f**.\n",
      "_Decapsulate_: Temos **h**.\n",
      "_Decapsulate_: Temos **Confirmation C**.\n",
      "_Decapsulate_: Temos **Rounded c**.\n",
      "_Decapsulate_: Temos **c**.\n",
      "_Decapsulate_: Temos **r**.\n"
     ]
    }
   ],
   "source": [
    "#cipherText <- C + encoded_c\n",
    "# secret <- encoded_f + encoded_g_inv + pk\n",
    "\n",
    "def decapsulate(cipherText,secret):\n",
    "    (f,ginv,pk) = secret\n",
    "    print('_Decapsulate_: Temos **f**.')\n",
    "    \n",
    "    h = decodeRq(list(pk))\n",
    "    print('_Decapsulate_: Temos **h**.')\n",
    "    \n",
    "    (C,rounded_c) = cipherText\n",
    "    print('_Decapsulate_: Temos **Confirmation C**.')\n",
    "    print('_Decapsulate_: Temos **Rounded c**.')\n",
    "    \n",
    "    c = decoderoundedRq(rounded_c)\n",
    "    print('_Decapsulate_: Temos **c**.')\n",
    "    \n",
    "    cX3f = c * Rq_fromR(3*f)\n",
    "    cX3f = [nicelift(cX3f[i]) for i in range(p)]\n",
    "    \n",
    "    r = R3(ginv) * R3(cX3f)\n",
    "    r = Zx([nicemod3(lift(r[i])) for i in range(p)])\n",
    "    print('_Decapsulate_: Temos **r**.')\n",
    "    \n",
    "    hr = h * Rq(r)\n",
    "    m = Zx([-nicemod3(nicelift(hr[i])) for i in range(p)])\n",
    "    checkc = Rq(m) + hr\n",
    "    \n",
    "    fullkey = encodeZx(r)\n",
    "    if sum(r[i]==0 for i in range(p)) != p-2*t:\n",
    "        print('erro no sum')\n",
    "        return False\n",
    "    if checkc != c: \n",
    "        return False\n",
    "    if fullkey[:95] != C: \n",
    "        return False\n",
    "    return R(fullkey[95:])\n",
    "    \n",
    "fullKey = decapsulate(cipherText,secret)"
   ]
  },
  {
   "cell_type": "code",
   "execution_count": 14,
   "metadata": {},
   "outputs": [
    {
     "name": "stdout",
     "output_type": "stream",
     "text": [
      "x^95 + 102*x^94 + 85*x^93 + 72*x^92 + 102*x^91 + 85*x^90 + 84*x^89 + 149*x^88 + 100*x^87 + 41*x^86 + 153*x^85 + 149*x^84 + 21*x^83 + 85*x^82 + 17*x^81 + 85*x^80 + 85*x^79 + 133*x^78 + 84*x^77 + 20*x^76 + 85*x^75 + 153*x^74 + 18*x^73 + 86*x^72 + 73*x^71 + 105*x^70 + 169*x^69 + 85*x^68 + 85*x^67 + 96*x^66 + 88*x^65 + 145*x^64 + 65*x^63 + 64*x^62 + 69*x^61 + 84*x^60 + 81*x^59 + 21*x^58 + 89*x^57 + 5*x^56 + 84*x^55 + 85*x^54 + 85*x^53 + 21*x^52 + 89*x^51 + 9*x^50 + 80*x^49 + 81*x^48 + 145*x^47 + 22*x^46 + 5*x^45 + 97*x^44 + 85*x^43 + 21*x^42 + 36*x^41 + 85*x^40 + 85*x^39 + 86*x^38 + 24*x^37 + 84*x^36 + 89*x^35 + 85*x^34 + 97*x^33 + 74*x^32 + 85*x^31 + 96*x^30 + 85*x^29 + 96*x^28 + 101*x^27 + 148*x^26 + 105*x^25 + 86*x^24 + 85*x^23 + 129*x^22 + 69*x^21 + 102*x^20 + 65*x^19 + 22*x^18 + 149*x^17 + 5*x^16 + 17*x^15 + 17*x^13 + 72*x^12 + 89*x^11 + 69*x^10 + 85*x^9 + 85*x^8 + 149*x^7 + 65*x^6 + 85*x^5 + 68*x^4 + 165*x^3 + 101*x^2 + 153*x + 21\n",
      "x^95 + 102*x^94 + 85*x^93 + 72*x^92 + 102*x^91 + 85*x^90 + 84*x^89 + 149*x^88 + 100*x^87 + 41*x^86 + 153*x^85 + 149*x^84 + 21*x^83 + 85*x^82 + 17*x^81 + 85*x^80 + 85*x^79 + 133*x^78 + 84*x^77 + 20*x^76 + 85*x^75 + 153*x^74 + 18*x^73 + 86*x^72 + 73*x^71 + 105*x^70 + 169*x^69 + 85*x^68 + 85*x^67 + 96*x^66 + 88*x^65 + 145*x^64 + 65*x^63 + 64*x^62 + 69*x^61 + 84*x^60 + 81*x^59 + 21*x^58 + 89*x^57 + 5*x^56 + 84*x^55 + 85*x^54 + 85*x^53 + 21*x^52 + 89*x^51 + 9*x^50 + 80*x^49 + 81*x^48 + 145*x^47 + 22*x^46 + 5*x^45 + 97*x^44 + 85*x^43 + 21*x^42 + 36*x^41 + 85*x^40 + 85*x^39 + 86*x^38 + 24*x^37 + 84*x^36 + 89*x^35 + 85*x^34 + 97*x^33 + 74*x^32 + 85*x^31 + 96*x^30 + 85*x^29 + 96*x^28 + 101*x^27 + 148*x^26 + 105*x^25 + 86*x^24 + 85*x^23 + 129*x^22 + 69*x^21 + 102*x^20 + 65*x^19 + 22*x^18 + 149*x^17 + 5*x^16 + 17*x^15 + 17*x^13 + 72*x^12 + 89*x^11 + 69*x^10 + 85*x^9 + 85*x^8 + 149*x^7 + 65*x^6 + 85*x^5 + 68*x^4 + 165*x^3 + 101*x^2 + 153*x + 21\n"
     ]
    }
   ],
   "source": [
    "print(fullKey)\n",
    "print(sessionKey)"
   ]
  },
  {
   "cell_type": "code",
   "execution_count": 15,
   "metadata": {},
   "outputs": [
    {
     "name": "stdout",
     "output_type": "stream",
     "text": [
      "_Encapsulate_: Temos **h**.\n",
      "_Encapsulate_: Temos **r**.\n",
      "_Encapsulate_: Temos **hr**.\n",
      "_Encapsulate_: Temos **c**.\n",
      "_Encapsulate_: Temos **Confirmation C**.\n",
      "\n",
      "_Encapsulate_: Temos **Secret Key K**.\n",
      "_Encapsulate_: Temos **encoded c**.\n",
      "_Encapsulate_: Temos **h**.\n",
      "_Encapsulate_: Temos **r**.\n",
      "_Encapsulate_: Temos **hr**.\n",
      "_Encapsulate_: Temos **c**.\n",
      "_Encapsulate_: Temos **Confirmation C**.\n",
      "\n",
      "_Encapsulate_: Temos **Secret Key K**.\n",
      "_Encapsulate_: Temos **encoded c**.\n",
      "\n",
      "\n",
      "\n",
      "Temos IND_CCA\n",
      "\n",
      "\n",
      "\n",
      "Temos IND_CCA\n"
     ]
    }
   ],
   "source": [
    "def test_IND_CCA():\n",
    "    ct1, sks1 = encapsulate(pk)\n",
    "    ct2, sks2 = encapsulate(pk)\n",
    "    if(ct1 == ct2):\n",
    "        print('\\n\\n\\nNão temos IND_CCA')\n",
    "    else:\n",
    "        print('\\n\\n\\nTemos IND_CCA')\n",
    "    if(sks1 == sks2):\n",
    "        print('\\n\\n\\nNão temos IND_CCA - k')\n",
    "    else:\n",
    "        print('\\n\\n\\nTemos IND_CCA')\n",
    "\n",
    "test_IND_CCA()"
   ]
  },
  {
   "cell_type": "markdown",
   "metadata": {},
   "source": [
    "# NTRU PRIME - PKE"
   ]
  },
  {
   "cell_type": "code",
   "execution_count": 16,
   "metadata": {},
   "outputs": [],
   "source": [
    "def encrypt(pk,m=None):\n",
    "    enc,k = encapsulate(pk)\n",
    "    #print(k)\n",
    "    m = R(m)\n",
    "    (C,encoded_c) = enc\n",
    "    if(m == None):\n",
    "        return (enc,k,k)\n",
    "    return(enc, m + k,k)"
   ]
  },
  {
   "cell_type": "code",
   "execution_count": 17,
   "metadata": {},
   "outputs": [
    {
     "name": "stdout",
     "output_type": "stream",
     "text": [
      "_Encapsulate_: Temos **h**.\n",
      "_Encapsulate_: Temos **r**.\n",
      "_Encapsulate_: Temos **hr**.\n",
      "_Encapsulate_: Temos **c**.\n",
      "_Encapsulate_: Temos **Confirmation C**.\n",
      "\n",
      "_Encapsulate_: Temos **Secret Key K**.\n",
      "_Encapsulate_: Temos **encoded c**.\n"
     ]
    }
   ],
   "source": [
    "message = random_tSmall()\n",
    "encripted_message = encrypt(pk,message)"
   ]
  },
  {
   "cell_type": "code",
   "execution_count": 18,
   "metadata": {},
   "outputs": [],
   "source": [
    "def decrypt(sk,c,pk):\n",
    "    (enc, mm,k) = c\n",
    "    #print(mm)\n",
    "    k1 = decapsulate(enc,sk)\n",
    "    assert k == k1\n",
    "    return mm - k1"
   ]
  },
  {
   "cell_type": "code",
   "execution_count": 19,
   "metadata": {},
   "outputs": [
    {
     "name": "stdout",
     "output_type": "stream",
     "text": [
      "_Decapsulate_: Temos **f**.\n",
      "_Decapsulate_: Temos **h**.\n",
      "_Decapsulate_: Temos **Confirmation C**.\n",
      "_Decapsulate_: Temos **Rounded c**.\n",
      "_Decapsulate_: Temos **c**.\n",
      "_Decapsulate_: Temos **r**.\n"
     ]
    }
   ],
   "source": [
    "decripted_message = decrypt(secret,encripted_message,pk)"
   ]
  },
  {
   "cell_type": "code",
   "execution_count": 20,
   "metadata": {},
   "outputs": [
    {
     "name": "stdout",
     "output_type": "stream",
     "text": [
      "yey\n"
     ]
    }
   ],
   "source": [
    "if(message == decripted_message):\n",
    "    print('yey')\n",
    "else:\n",
    "    print 'no :('"
   ]
  },
  {
   "cell_type": "markdown",
   "metadata": {},
   "source": [
    "## PKE-IND-CCA"
   ]
  },
  {
   "cell_type": "code",
   "execution_count": 21,
   "metadata": {},
   "outputs": [
    {
     "name": "stdout",
     "output_type": "stream",
     "text": [
      "_Encapsulate_: Temos **h**.\n",
      "_Encapsulate_: Temos **r**.\n",
      "_Encapsulate_: Temos **hr**.\n",
      "_Encapsulate_: Temos **c**.\n",
      "_Encapsulate_: Temos **Confirmation C**.\n",
      "\n",
      "_Encapsulate_: Temos **Secret Key K**.\n",
      "_Encapsulate_: Temos **encoded c**.\n",
      "_Encapsulate_: Temos **h**.\n",
      "_Encapsulate_: Temos **r**.\n",
      "_Encapsulate_: Temos **hr**.\n",
      "_Encapsulate_: Temos **c**.\n",
      "_Encapsulate_: Temos **Confirmation C**.\n",
      "\n",
      "_Encapsulate_: Temos **Secret Key K**.\n",
      "_Encapsulate_: Temos **encoded c**.\n",
      "_Encapsulate_: Temos **h**.\n",
      "_Encapsulate_: Temos **r**.\n",
      "_Encapsulate_: Temos **hr**.\n",
      "_Encapsulate_: Temos **c**.\n",
      "_Encapsulate_: Temos **Confirmation C**.\n",
      "\n",
      "_Encapsulate_: Temos **Secret Key K**.\n",
      "_Encapsulate_: Temos **encoded c**.\n",
      "_Encapsulate_: Temos **h**.\n",
      "_Encapsulate_: Temos **r**.\n",
      "_Encapsulate_: Temos **hr**.\n",
      "_Encapsulate_: Temos **c**.\n",
      "_Encapsulate_: Temos **Confirmation C**.\n",
      "\n",
      "_Encapsulate_: Temos **Secret Key K**.\n",
      "_Encapsulate_: Temos **encoded c**.\n",
      "_Encapsulate_: Temos **h**.\n",
      "_Encapsulate_: Temos **r**.\n",
      "_Encapsulate_: Temos **hr**.\n",
      "_Encapsulate_: Temos **c**.\n",
      "_Encapsulate_: Temos **Confirmation C**.\n",
      "\n",
      "_Encapsulate_: Temos **Secret Key K**.\n",
      "_Encapsulate_: Temos **encoded c**.\n",
      "PKE-IND-CCA\n"
     ]
    }
   ],
   "source": [
    "# ADVERSÁRIO\n",
    "m_test1 = random_tSmall()\n",
    "m_test2 = random_tSmall()\n",
    "m_test3 = random_tSmall()\n",
    "test1 = encrypt(pk,m_test1)\n",
    "test2 = encrypt(pk,m_test2)\n",
    "test3 = encrypt(pk,m_test3)\n",
    "\n",
    "messageList=[m_test1,m_test2,m_test3]\n",
    "def game_encrypt(pk, messageList):\n",
    "    b = randint(0,len(messageList)-1)\n",
    "    return encrypt(pk,messageList[b])\n",
    "\n",
    "cipher = encrypt(pk)\n",
    "cipherMessage = game_encrypt(pk,messageList)\n",
    "#print(cipherMessage)\n",
    "\n",
    "cipher_enc, cipher_message, cipher_k = cipher\n",
    "\n",
    "testTry1 = (cipher_enc, m_test1 + cipher_message,cipher_k)\n",
    "#print(testTry1)\n",
    "\n",
    "testTry2 = (cipher_enc, m_test2 + cipher_message,cipher_k)\n",
    "testTry3 = (cipher_enc, m_test3 + cipher_message,cipher_k)\n",
    "\n",
    "#if(cipherMessage == testTry1):\n",
    "if(test1 == testTry1):\n",
    "    print('Foi a mensagem1!')\n",
    "#elif(cipherMessage == testTry2):\n",
    "elif(test2 == testTry2):    \n",
    "    print('Foi a mensagem2!')\n",
    "#elif(cipherMessage == testTry3):\n",
    "elif(test3 == testTry3):\n",
    "    print('Foi a mensagem3!')\n",
    "else:\n",
    "    print('PKE-IND-CCA') "
   ]
  }
 ],
 "metadata": {
  "kernelspec": {
   "display_name": "SageMath 8.9",
   "language": "sage",
   "name": "sagemath"
  },
  "language_info": {
   "codemirror_mode": {
    "name": "ipython",
    "version": 2
   },
   "file_extension": ".py",
   "mimetype": "text/x-python",
   "name": "python",
   "nbconvert_exporter": "python",
   "pygments_lexer": "ipython2",
   "version": "2.7.15"
  }
 },
 "nbformat": 4,
 "nbformat_minor": 2
}
