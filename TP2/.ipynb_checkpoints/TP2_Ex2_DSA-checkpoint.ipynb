{
 "cells": [
  {
   "cell_type": "markdown",
   "metadata": {},
   "source": [
    "# Exercício 2 - DSA"
   ]
  },
  {
   "cell_type": "markdown",
   "metadata": {},
   "source": [
    "Neste exercício temos de implementar um algoritmo de DSA.\n",
    "\n",
    "Esta implementação pode-se dividir em 4 processos distintos:\n",
    "* **Gerar parâmetros**\n",
    "* **Criação das chaves**\n",
    "* **Assinatura de uma mensagem**\n",
    "* **Verificação da assinatura de uma mensagem**\n",
    "\n",
    "Ao longo deste documento vamos explicar o algoritmo de cada um dos processos acima expostos."
   ]
  },
  {
   "cell_type": "markdown",
   "metadata": {},
   "source": [
    "## Gerar Parâmetros\n",
    "Neste processo vamos gerar os 3 parâmetros essenciais que são a base deste algoritmo de DSA: `p`, `q`, e `g`."
   ]
  },
  {
   "cell_type": "markdown",
   "metadata": {},
   "source": [
    "### Parâmetro q:\n",
    "* **q** - Um número primo de N-bits"
   ]
  },
  {
   "cell_type": "code",
   "execution_count": 1,
   "metadata": {},
   "outputs": [],
   "source": [
    "def generateQ(N):\n",
    "    q = random_prime(2^(N-1))\n",
    "    print(\"q: \"+ str(q))\n",
    "    return q"
   ]
  },
  {
   "cell_type": "markdown",
   "metadata": {},
   "source": [
    "### Parâmetro p:\n",
    "* **p:** \n",
    "     * Número primo de L-bits \n",
    "     * `p-1` é múltiplo de `q`"
   ]
  },
  {
   "cell_type": "code",
   "execution_count": 2,
   "metadata": {},
   "outputs": [],
   "source": [
    "def generateP(L,q):\n",
    "    while(true):\n",
    "        p = random_prime(2^(L-1))\n",
    "        if(mod(ZZ(p-1),q) == 0):\n",
    "            break\n",
    "        #print('next')\n",
    "    print(\"p: \"+ str(p))\n",
    "    return p"
   ]
  },
  {
   "cell_type": "markdown",
   "metadata": {},
   "source": [
    "### Parâmetro g :\n",
    "* **g**\n",
    "    * Temos de computar: `h^((p-1)/q) mod p`\n",
    "\n",
    "Como vemos na expressão em cima é necessário um parâmetro auxiliar: `h`.\n",
    "\n",
    "De realçar que se com um determinado valor de `h`, a computação de `g` for igual a 1, devemos repetir esta computação, mas assumindo `h=2`."
   ]
  },
  {
   "cell_type": "markdown",
   "metadata": {},
   "source": [
    "#### Parâmetro h :\n",
    "* **h** \n",
    "    - Inteiro compreendido entre os valores: 1 < h < p-1 "
   ]
  },
  {
   "cell_type": "code",
   "execution_count": 3,
   "metadata": {},
   "outputs": [],
   "source": [
    "def generateH(p):\n",
    "    h = randint(2,p-2)\n",
    "    print(\"h: \"+ str(h))\n",
    "    return h"
   ]
  },
  {
   "cell_type": "code",
   "execution_count": 4,
   "metadata": {},
   "outputs": [],
   "source": [
    "def generateG(p,q):\n",
    "    h = generateH(p)\n",
    "    exph = (p-1)/q\n",
    "    g = power_mod(h,ZZ(exph),p)\n",
    "    if (g == 1):\n",
    "        print('g = 1 ...')\n",
    "        h = 2\n",
    "        g = pow(h,aux,p)\n",
    "    print('g: ' + str(g))\n",
    "    return g"
   ]
  },
  {
   "cell_type": "markdown",
   "metadata": {},
   "source": [
    "#### Gerador de parâmetros:\n",
    "`generateParameters()` é a função é responsável por gerar os parâmetros:\n",
    "* **p**\n",
    "* **q**\n",
    "* **g**"
   ]
  },
  {
   "cell_type": "code",
   "execution_count": 5,
   "metadata": {},
   "outputs": [],
   "source": [
    "def generateParameters(L,N):\n",
    "    q = generateQ(16)\n",
    "    p = generateP(128,q)\n",
    "    g = generateG(p,q)\n",
    "    parameters = (p,q,g)\n",
    "    return parameters"
   ]
  },
  {
   "cell_type": "code",
   "execution_count": 6,
   "metadata": {},
   "outputs": [
    {
     "name": "stdout",
     "output_type": "stream",
     "text": [
      "q: 22279\n",
      "p: 144398932945256214146235797358038236531\n",
      "h: 68152207387258723359244379903102135255\n",
      "g: 79311238626828824131157619611774038295\n"
     ]
    }
   ],
   "source": [
    "parameters = generateParameters(2048,256)"
   ]
  },
  {
   "cell_type": "markdown",
   "metadata": {},
   "source": [
    "## Criação das chaves\n",
    "Agora que temos os parâmetros necessários, podemos passar para o processo de criação das chaves.\n",
    "Assim na função seguinte vamos gerar dois valores:\n",
    "* **x**\n",
    "    * Inteiro aleatório compreendido no intervalo: 0 < x < q\n",
    "    * Corresponde à **Chave Privada**\n",
    "* **y**\n",
    "    * Computar `g^x mod p`\n",
    "    * Corresponde à **Chave Pública**"
   ]
  },
  {
   "cell_type": "code",
   "execution_count": 7,
   "metadata": {},
   "outputs": [],
   "source": [
    "def generateKeys(parameters):\n",
    "    (p,q,g) = parameters\n",
    "    #x\n",
    "    x = randint(1,q-1)\n",
    "    privateKey = x\n",
    "    print('Private Key: ' + str(privateKey))\n",
    "    y = power_mod(g,privateKey,p)\n",
    "    publicKey = y\n",
    "    print('Public Key: ' + str(publicKey))\n",
    "    return privateKey, publicKey"
   ]
  },
  {
   "cell_type": "code",
   "execution_count": 8,
   "metadata": {},
   "outputs": [
    {
     "name": "stdout",
     "output_type": "stream",
     "text": [
      "Private Key: 3203\n",
      "Public Key: 19747773144800009831469514182127128013\n"
     ]
    }
   ],
   "source": [
    "privateKey, publicKey = generateKeys(parameters)"
   ]
  },
  {
   "cell_type": "markdown",
   "metadata": {},
   "source": [
    "## Assinatura de uma mensagem\n",
    "Com os parâmetros gerados e criadas as chaves, podemos passar à produção de assinaturas de qualquer mensagem `m`.\n",
    "Este processo pode ser dividido em 3 processos mais pequenos:\n",
    "* **Calcular r** - `(g^k mod p) mod q`. Se `r==0`, gerar outro `k`e repetir este processo\n",
    "* **Calcular s** - `[ k^(-1) * ( hash(m) + x*r ) ] mod q`\n",
    "* **Construir assinatura** - Par: `(r,s)`\n"
   ]
  },
  {
   "cell_type": "markdown",
   "metadata": {},
   "source": [
    "### Calcular r\n",
    "Este cálculo necessita de um valor auxiliar `k`. \n",
    "\n",
    "Como foi referido em cima `r` tem de ser diferente de`0`. Por isso no raro caso de isso acontecer, será necessário gerar outro `k` e recalcular `r`."
   ]
  },
  {
   "cell_type": "markdown",
   "metadata": {},
   "source": [
    "#### Calcular k\n",
    "* **k** - Inteiro aleatório compreendido no intervalo: 0 < k < q"
   ]
  },
  {
   "cell_type": "code",
   "execution_count": 9,
   "metadata": {},
   "outputs": [],
   "source": [
    "def generateK(q):\n",
    "    k = randint(1,q-1)\n",
    "    print('k: ' + str(k))\n",
    "    return k"
   ]
  },
  {
   "cell_type": "code",
   "execution_count": 10,
   "metadata": {},
   "outputs": [],
   "source": [
    "def calculateR(parameters,k):\n",
    "    (p,q,g) = parameters\n",
    "    r = mod(power_mod(g,k,p),q)\n",
    "    if (r == 0):\n",
    "        print('r = 0')\n",
    "        generateK(q)\n",
    "        r = calculateR(parameters,k)\n",
    "    print('r: ' + str(r))\n",
    "    return r"
   ]
  },
  {
   "cell_type": "markdown",
   "metadata": {},
   "source": [
    "### Calcular s\n",
    "Para calcular `s` precisamos do `k`em cima gerado também.\n",
    "\n",
    "Para processar a expressão `[ k^(-1) * ( hash(m) + x*r ) ] mod q` vamos dividir em tarefas mais pequenas, devido ao grande esforço computacional que requerem.\n",
    "\n",
    "Primeiro vamos computar: `k^(-1) mod q` e só depois multiplicar esse valor por `(hash(m) + x*r)`"
   ]
  },
  {
   "cell_type": "code",
   "execution_count": 11,
   "metadata": {},
   "outputs": [],
   "source": [
    "def calculateS(parameters,privateKey,k,m,r):\n",
    "    (p,q,g) = parameters\n",
    "    hm = hash(m)\n",
    "    #print('hm: ' + str(hm))\n",
    "    s1 = power_mod(k,-1,q)\n",
    "    xr = privateKey*r\n",
    "    s2 = hm + xr \n",
    "    s = s1*s2\n",
    "    print('s: ' + str(s))\n",
    "    return s"
   ]
  },
  {
   "cell_type": "markdown",
   "metadata": {},
   "source": [
    "### Construir assinatura\n",
    "Este processo é bastante simples na medida que apenas pega nos valores de `r`e `s`e junta-os como um par: `signature = (r,s)`"
   ]
  },
  {
   "cell_type": "markdown",
   "metadata": {},
   "source": [
    "Na função em baixo, `signMessage` vamos executar os 3 processos descritos em cima e vamos devolver a assinatura."
   ]
  },
  {
   "cell_type": "code",
   "execution_count": 12,
   "metadata": {},
   "outputs": [],
   "source": [
    "def signMessage(parameters,privateKey,m):\n",
    "    (p,q,g) = parameters\n",
    "    k = generateK(q)\n",
    "    r = calculateR(parameters,k)\n",
    "    s = calculateS(parameters,privateKey,k,m,r)\n",
    "    signature = (r,s)\n",
    "    print('signature: ' + str(signature))\n",
    "    return signature"
   ]
  },
  {
   "cell_type": "code",
   "execution_count": 13,
   "metadata": {},
   "outputs": [
    {
     "name": "stdout",
     "output_type": "stream",
     "text": [
      "k: 8868\n",
      "r: 12542\n",
      "s: 18608\n",
      "signature: (12542, 18608)\n"
     ]
    }
   ],
   "source": [
    "m = b'teste12'\n",
    "signature = signMessage(parameters,privateKey,m)"
   ]
  },
  {
   "cell_type": "markdown",
   "metadata": {},
   "source": [
    "## Verificação da assinatura de uma mensagem\n",
    "Esta operação diz respeito à validação de uma assinatura a uma dada mensagem.\n",
    "\n",
    "Este processo de verificação também pode ser dividido em algumas etapas:\n",
    "* **Tamanho de `r` e `s`**\n",
    "    * 0 < `r` < q\n",
    "    * 0 < `s` < q\n",
    "* **Cálculo de w** - `s^(-1) mod q`\n",
    "* **u1** - `hash(m) * w mod q`\n",
    "* **u2** - `r*w mod q`\n",
    "* **v** - `( g^(u1) * y^(u2) mod p ) mod q`\n",
    "* **Verificar** : `v == r`"
   ]
  },
  {
   "cell_type": "code",
   "execution_count": 14,
   "metadata": {},
   "outputs": [],
   "source": [
    "def verifySignature(publicKey,parameters,signature,m):\n",
    "    (p,q,g) = parameters\n",
    "    #print('q: ' + str(q))\n",
    "    (r,s) = signature\n",
    "    qr = q-r\n",
    "    #print('qr: ' + str(qr))\n",
    "    qs = q-s\n",
    "    #print('qs: ' + str(qs))\n",
    "    if(r<=0):\n",
    "        #print('r negativo')\n",
    "        return 'ERRO R!'\n",
    "    if(qr <= 0):\n",
    "        #print('r>=q')\n",
    "        return 'ERRO R!'\n",
    "    if(s<=0):\n",
    "        #print('s negativo')\n",
    "        return 'ERRO S!'\n",
    "    if(qs <= 0):\n",
    "        #print('s>=q')\n",
    "        return 'ERRO S!'\n",
    "    \n",
    "    w = power_mod(ZZ(s),-1,q)\n",
    "    #print('w: ' + str(w)) \n",
    "    \n",
    "    mw = hash(m) * w\n",
    "    #print('mw: ' + str(mw))  \n",
    "    u1 = power_mod(mw,1,q)\n",
    "    #print('u1: ' + str(u1))\n",
    "    \n",
    "    rw = ZZ(r)*w\n",
    "    #print('rw: ' + str(rw))\n",
    "    u2 = mod(rw,q)\n",
    "    #print('u2: ' + str(u2))\n",
    "    \n",
    "    gu1 = g^u1\n",
    "    pu2 = publicKey^u2\n",
    "    gu1pu2=gu1*pu2\n",
    "    \n",
    "    v1 = mod(gu1pu2,p)\n",
    "    #print('v1: ' + str(v1))\n",
    "    \n",
    "    v = mod(v1,q)\n",
    "    print('v: ' + str(v))\n",
    "    \n",
    "    if(v == r):\n",
    "        return 'True'\n",
    "    else:\n",
    "        return 'False'"
   ]
  },
  {
   "cell_type": "code",
   "execution_count": 15,
   "metadata": {},
   "outputs": [
    {
     "name": "stdout",
     "output_type": "stream",
     "text": [
      "v: 12542\n",
      "Resultado da verificação 1: True\n"
     ]
    }
   ],
   "source": [
    "result = verifySignature(publicKey,parameters,signature,m)\n",
    "print('Resultado da verificação 1: ' + result)"
   ]
  },
  {
   "cell_type": "code",
   "execution_count": 16,
   "metadata": {},
   "outputs": [
    {
     "name": "stdout",
     "output_type": "stream",
     "text": [
      "v: 2555\n",
      "Resultado da verificação 2: False\n"
     ]
    }
   ],
   "source": [
    "m2 = b'Teste2'\n",
    "result2 = verifySignature(publicKey,parameters,signature,m2)\n",
    "print('Resultado da verificação 2: ' + str(result2))"
   ]
  }
 ],
 "metadata": {
  "kernelspec": {
   "display_name": "SageMath 8.9",
   "language": "sage",
   "name": "sagemath"
  },
  "language_info": {
   "codemirror_mode": {
    "name": "ipython",
    "version": 2
   },
   "file_extension": ".py",
   "mimetype": "text/x-python",
   "name": "python",
   "nbconvert_exporter": "python",
   "pygments_lexer": "ipython2",
   "version": "2.7.15"
  }
 },
 "nbformat": 4,
 "nbformat_minor": 2
}
