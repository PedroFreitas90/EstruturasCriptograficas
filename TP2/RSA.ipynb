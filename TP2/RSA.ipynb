{
 "cells": [
  {
   "cell_type": "markdown",
   "metadata": {},
   "source": [
    "# Exercício 1 - Esquema KEM- RSA-OAEP"
   ]
  },
  {
   "cell_type": "markdown",
   "metadata": {},
   "source": [
    "Neste exercício temos de implementar um esquema KEM- RSA-OAEP  que deve :\n",
    "* **Inicializar cada instância recebendo como parâmetro obrigatório o parâmetro de segurança (tamanho em bits do módulo RSA-OAEP) e gerando as chaves pública e privada**\n",
    "* **Conter funções para encapsulamento e revelação da chave gerada.**\n",
    "* **Construir,  a partir deste KEM e usando a transformação de Fujisaki-Okamoto, um PKE que seja IND-CCA seguro.**\n",
    "\n",
    "Ao longo deste documento vamos explicar o algoritmo de cada um dos processos acima expostos."
   ]
  },
  {
   "cell_type": "markdown",
   "metadata": {},
   "source": [
    "## Gerar Parâmetros\n",
    "Neste processo vamos gerar os parâmetros essenciais que são a base do algoritmo do RSA:\n",
    "    - 2 números primos p e q;\n",
    "    - n is the modulus for the public key and the private keys;\n",
    "    - phi is the coprime count of n;"
   ]
  },
  {
   "cell_type": "code",
   "execution_count": 1,
   "metadata": {},
   "outputs": [],
   "source": [
    "def rprime(l):\n",
    "        return random_prime(2**l-1,True,2**(l-1))"
   ]
  },
  {
   "cell_type": "code",
   "execution_count": 2,
   "metadata": {},
   "outputs": [],
   "source": [
    "l = 1024\n",
    "\n",
    "q = rprime(l)\n",
    "p = rprime(l+1)"
   ]
  },
  {
   "cell_type": "code",
   "execution_count": 3,
   "metadata": {},
   "outputs": [],
   "source": [
    "n = p * q \n",
    "phi = (p-1)*(q-1)"
   ]
  },
  {
   "cell_type": "code",
   "execution_count": null,
   "metadata": {},
   "outputs": [],
   "source": []
  },
  {
   "cell_type": "markdown",
   "metadata": {},
   "source": [
    "## OAEP padding\n",
    "Neste processo vamos gerar os parâmetros essenciais que são a base do algoritmo do RSA:\n",
    "    - G e R são random oracles;"
   ]
  },
  {
   "cell_type": "code",
   "execution_count": 4,
   "metadata": {},
   "outputs": [],
   "source": [
    "G = IntegerModRing(phi) \n",
    "R = IntegerModRing(n)\n",
    "\n",
    "\n",
    "r = G(rprime(512))\n",
    "s = 1/r"
   ]
  },
  {
   "cell_type": "code",
   "execution_count": 5,
   "metadata": {},
   "outputs": [],
   "source": [
    "e = ZZ.random_element(phi)\n",
    "while gcd(e, phi) != 1:\n",
    "    e = ZZ.random_element(phi)\n",
    "\n",
    "bezout = xgcd(e, phi)\n",
    "d = Integer(mod(bezout[1], phi))"
   ]
  },
  {
   "cell_type": "code",
   "execution_count": 6,
   "metadata": {},
   "outputs": [],
   "source": [
    "def cifrar(m): ##OAEP encrypt\n",
    "    a = R(m)\n",
    "    cm = a**r\n",
    "    return cm\n",
    "def decifrar(cm):\n",
    "    b=R(cm)\n",
    "    dm = b**s\n",
    "    return dm"
   ]
  },
  {
   "cell_type": "code",
   "execution_count": 7,
   "metadata": {},
   "outputs": [],
   "source": [
    "def assinar(m):\n",
    "    return pow(hash(m),d,e) \n",
    "def verificar(sign):\n",
    "    return pow(sign,e,n) "
   ]
  },
  {
   "cell_type": "code",
   "execution_count": 9,
   "metadata": {},
   "outputs": [
    {
     "name": "stdout",
     "output_type": "stream",
     "text": [
      "72697676798779827668\n",
      "13113228212722980590027042418375223413696354792573116058766992582237335058427750228517438572307756337346419780144943338360239735257830823276453826656340670632756926985440806905489180233648564805770574002387522449892853390668572437943909982470288257715058500375529563685041281217764998064273437995865302181707650660453750081775982420238655009989699149549421930828790395985096123898394154756039250934454111512358755157880555627468444691288393962142883489983964223216663451161125238763940524676194193979141792939733411652692269118382785317614827434858894239711254645234761579727121436585338905983988427461455450472485368\n",
      "True\n",
      "13113228212722980590027042418375223413696354792573116058766992582237335058427750228517438572307756337346419780144943338360239735257830823276453826656340670632756926985440806905489180233648564805770574002387522449892853390668572437943909982470288257715058500375529563685041281217764998064273437995865302181707650660453750081775982420238655009989699149549421930828790395985096123898394154756039250934454111512358755157880555627468444691288393962142883489983964223216663451161125238763940524676194193979141792939733411652692269118382785317614827434858894239711254645234761579727121436585338905983988427461455450472485368\n",
      "False\n"
     ]
    }
   ],
   "source": [
    "m = \"HELLOWORLD\"\n",
    "m = [ord(x) for x in m]\n",
    "m = ZZ(list(reversed(m)), 100)\n",
    "\n",
    "print (m)\n",
    "sign= assinar(m)\n",
    "c = cifrar(sign)\n",
    "dec = decifrar(c)\n",
    "print (sign)\n",
    "print (ZZ(sign) == ZZ(dec))\n",
    "print (dec)\n",
    "sign2=verificar(dec)\n",
    "print (hash(m) == sign2)"
   ]
  },
  {
   "cell_type": "code",
   "execution_count": null,
   "metadata": {},
   "outputs": [],
   "source": []
  },
  {
   "cell_type": "code",
   "execution_count": null,
   "metadata": {},
   "outputs": [],
   "source": []
  }
 ],
 "metadata": {
  "kernelspec": {
   "display_name": "SageMath 8.9",
   "language": "sage",
   "name": "sagemath"
  },
  "language_info": {
   "codemirror_mode": {
    "name": "ipython",
    "version": 2
   },
   "file_extension": ".py",
   "mimetype": "text/x-python",
   "name": "python",
   "nbconvert_exporter": "python",
   "pygments_lexer": "ipython2",
   "version": "2.7.15"
  }
 },
 "nbformat": 4,
 "nbformat_minor": 2
}
