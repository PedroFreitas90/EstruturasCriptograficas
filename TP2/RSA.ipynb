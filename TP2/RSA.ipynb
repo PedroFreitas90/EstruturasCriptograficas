{
 "cells": [
  {
   "cell_type": "markdown",
   "metadata": {},
   "source": [
    "# Exercício 1 - Esquema KEM- RSA-OAEP"
   ]
  },
  {
   "cell_type": "markdown",
   "metadata": {},
   "source": [
    "Neste exercício temos de implementar um esquema KEM- RSA-OAEP  que deve :\n",
    "* **Inicializar cada instância recebendo como parâmetro obrigatório o parâmetro de segurança (tamanho em bits do módulo RSA-OAEP) e gerando as chaves pública e privada**\n",
    "* **Conter funções para encapsulamento e revelação da chave gerada.**\n",
    "* **Construir,  a partir deste KEM e usando a transformação de Fujisaki-Okamoto, um PKE que seja IND-CCA seguro.**\n",
    "\n",
    "Ao longo deste documento vamos explicar o algoritmo de cada um dos processos acima expostos."
   ]
  },
  {
   "cell_type": "markdown",
   "metadata": {},
   "source": [
    "## Gerar Parâmetros\n",
    "Neste processo vamos gerar os parâmetros essenciais que são a base do algoritmo do RSA:\n",
    "    - 2 números primos p e q;\n",
    "    - n is the modulus for the public key and the private keys;\n",
    "    - phi is the coprime count of n;"
   ]
  },
  {
   "cell_type": "code",
   "execution_count": 1,
   "metadata": {},
   "outputs": [],
   "source": [
    "def rprime(l):\n",
    "        return random_prime(2**l-1,True,2**(l-1))"
   ]
  },
  {
   "cell_type": "code",
   "execution_count": 2,
   "metadata": {},
   "outputs": [],
   "source": [
    "l = 1024\n",
    "\n",
    "q = rprime(l)\n",
    "p = rprime(l+1)"
   ]
  },
  {
   "cell_type": "code",
   "execution_count": 3,
   "metadata": {},
   "outputs": [],
   "source": [
    "n = p * q \n",
    "phi = (p-1)*(q-1)"
   ]
  },
  {
   "cell_type": "code",
   "execution_count": null,
   "metadata": {},
   "outputs": [],
   "source": []
  },
  {
   "cell_type": "markdown",
   "metadata": {},
   "source": [
    "## OAEP padding\n",
    "Neste processo vamos gerar os parâmetros essenciais que são a base do algoritmo do RSA:\n",
    "    - G e R são random oracles;"
   ]
  },
  {
   "cell_type": "code",
   "execution_count": 4,
   "metadata": {},
   "outputs": [],
   "source": [
    "G = IntegerModRing(phi) \n",
    "R = IntegerModRing(n)\n",
    "\n",
    "\n",
    "r = G(rprime(512))\n",
    "s = 1/r"
   ]
  },
  {
   "cell_type": "code",
   "execution_count": 5,
   "metadata": {},
   "outputs": [],
   "source": [
    "e = ZZ.random_element(phi)\n",
    "while gcd(e, phi) != 1:\n",
    "    e = ZZ.random_element(phi)\n",
    "\n",
    "bezout = xgcd(e, phi)\n",
    "d = Integer(mod(bezout[1], phi))"
   ]
  },
  {
   "cell_type": "code",
   "execution_count": 6,
   "metadata": {},
   "outputs": [],
   "source": [
    "def cifrar(m): ##OAEP encrypt\n",
    "    a = R(m)\n",
    "    cm = a**r\n",
    "    return cm\n",
    "def decifrar(cm):\n",
    "    b=R(cm)\n",
    "    dm = b**s\n",
    "    return dm"
   ]
  },
  {
   "cell_type": "code",
   "execution_count": 7,
   "metadata": {},
   "outputs": [],
   "source": [
    "def assinar(m):\n",
    "    return pow(hash(m),d,e) \n",
    "def verificar(sign):\n",
    "    return pow(sign,e,n) "
   ]
  },
  {
   "cell_type": "code",
   "execution_count": 13,
   "metadata": {},
   "outputs": [
    {
     "name": "stdout",
     "output_type": "stream",
     "text": [
      "72697676798779827668\n",
      "6592397166349939748709417136217331889347340185091130449129860825728397458101736448800647049262743041781060734753556926017999047861530835029964931552959354868096257885557970444093745501383774405045681170033112217555535872612577242677674860388903599362393868815628003428082253140916634723873735880402427923395770775079311846598700682014766368187805049798129793119688372703409149193753956101385382572766387970435650328657965637096486518057238236946892984709970111053477426491942876879237923523566225786503187081612712624730196538599925487265219947517638620705176207799335212622275704443919716857844719818053790143436475\n",
      "False\n",
      "6592397166349939748709417136217331889347340185091130449129860825728397458101736448800647049262743041781060734753556926017999047861530835029964931552959354868096257885557970444093745501383774405045681170033112217555535872612577242677674860388903599362393868815628003428082253140916634723873735880402427923395770775079311846598700682014766368187805049798129793119688372703409149193753956101385382572766387970435650328657965637096486518057238236946892984709970111053477426491942876879237923523566225786503187081612712624730196538599925487265219947517638620705176207799335212622275704443919716857844719818053790143436475\n",
      "WTF sign and dec parecem que são iguais\n",
      "False\n"
     ]
    }
   ],
   "source": [
    "m = \"HELLOWORLD\"\n",
    "m = [ord(x) for x in m]\n",
    "m = ZZ(list(reversed(m)), 100)\n",
    "\n",
    "print (m)\n",
    "sign= assinar(m)\n",
    "c = cifrar(sign)\n",
    "dec = decifrar(c)\n",
    "print (sign)\n",
    "print (sign == dec)\n",
    "print (dec)\n",
    "print (\"WTF sign and dec parecem que são iguais\")\n",
    "sign2=verificar(dec)\n",
    "print (hash(m) == sign2)"
   ]
  },
  {
   "cell_type": "code",
   "execution_count": null,
   "metadata": {},
   "outputs": [],
   "source": []
  },
  {
   "cell_type": "code",
   "execution_count": null,
   "metadata": {},
   "outputs": [],
   "source": []
  }
 ],
 "metadata": {
  "kernelspec": {
   "display_name": "SageMath 9.0",
   "language": "sage",
   "name": "sagemath"
  },
  "language_info": {
   "codemirror_mode": {
    "name": "ipython",
    "version": 3
   },
   "file_extension": ".py",
   "mimetype": "text/x-python",
   "name": "python",
   "nbconvert_exporter": "python",
   "pygments_lexer": "ipython3",
   "version": "3.7.6"
  }
 },
 "nbformat": 4,
 "nbformat_minor": 2
}
