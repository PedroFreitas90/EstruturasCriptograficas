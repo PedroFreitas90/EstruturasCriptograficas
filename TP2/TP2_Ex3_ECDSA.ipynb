{
 "cells": [
  {
   "cell_type": "markdown",
   "metadata": {},
   "source": [
    "# Exercício 3 - ECDSA"
   ]
  },
  {
   "cell_type": "markdown",
   "metadata": {},
   "source": [
    "Neste exercício vamos implementar um ECDSA segundo uma curva elíptica definidas no **FIPS186-4**. Numa pesquisa encontramos os valores dos parâmetros de várias curvas, tendo optado pela curva **P-384**, para ir de acordo com a curva utilizado no trabalho prático 1."
   ]
  },
  {
   "cell_type": "markdown",
   "metadata": {},
   "source": [
    "## Parâmetros\n",
    "* Os parâmetros desta curva são:"
   ]
  },
  {
   "cell_type": "code",
   "execution_count": 1,
   "metadata": {},
   "outputs": [],
   "source": [
    "FIPS = dict()\n",
    "FIPS['P-384'] = {\n",
    "    'p': 39402006196394479212279040100143613805079739270465446667948293404245721771496870329047266088258938001861606973112319,\n",
    "    'n': 39402006196394479212279040100143613805079739270465446667946905279627659399113263569398956308152294913554433653942643,\n",
    "    'seed': 'a335926aa319a27a1d00896a6773a4827acdac73',\n",
    "    'c': '79d1e655f868f02fff48dcdee14151ddb80643c1406d0ca10dfe6fc52009540a495e8042ea5f744f6e184667cc722483',\n",
    "    'b': 'b3312fa7e23ee7e4988e056be3f82d19181d9c6efe8141120314088f5013875ac656398d8a2ed19d2a85c8edd3ec2aef',\n",
    "    'Gx': 'aa87ca22be8b05378eb1c71ef320ad746e1d3b628ba79b9859f741e082542a385502f25dbf55296c3a545e3872760ab7',\n",
    "    'Gy': '3617de4a96262c6f5d9e98bf9292dc29f8f41dbd289a147ce9da3113b5f0b8c00a60b1ce1d7e819d7a431d7c90ea0e5f',\n",
    "}       "
   ]
  },
  {
   "cell_type": "markdown",
   "metadata": {},
   "source": [
    "## Chaves\n",
    "Para gerar as chaves vamos primeiro obter o **Ponto Gerador** (**basepoint**) e a partir daí já podemos calcular as chaves."
   ]
  },
  {
   "cell_type": "markdown",
   "metadata": {},
   "source": [
    "### Ponto gerador\n",
    "Este ponto é um ponto que se assemelha ao início da curva.\n",
    "\n",
    "Para calcular precisamos dos parâmetros `p`e `b` tabelados para a partir disso obtermos a curva elítica correspondente. Sabendo que a curva tem o formato: `y^2 = x^3 - 3x + b mod p` a nossa curva pode ser obttida através: `E = EllipticCurve(GF(p),[-3,b])`"
   ]
  },
  {
   "cell_type": "code",
   "execution_count": 2,
   "metadata": {},
   "outputs": [],
   "source": [
    "def generateGeneratorPoint():\n",
    "    p = FIPS['P-384']['p']\n",
    "    b = ZZ(FIPS['P-384']['b'],16)\n",
    "    \n",
    "    E = EllipticCurve(GF(p),[-3,b])\n",
    "    #print(E)\n",
    "    \n",
    "    gx = ZZ(FIPS['P-384']['Gx'], 16)\n",
    "    gy = ZZ(FIPS['P-384']['Gy'], 16)\n",
    "    generatorPoint = E((gx,gy))\n",
    "    print('GeneratorPoint: ' + str(generatorPoint))\n",
    "    return generatorPoint"
   ]
  },
  {
   "cell_type": "markdown",
   "metadata": {},
   "source": [
    "### Chave privada\n",
    "A chave privada é facilmente obtida, visto que é apenas necessário que seja um valor aleatório entre 0 e `n`, onde `n` representa a ordem do **basepoint**."
   ]
  },
  {
   "cell_type": "code",
   "execution_count": 3,
   "metadata": {},
   "outputs": [],
   "source": [
    "def generatePrivateKey(n):\n",
    "    d = ZZ.random_element(1,n-1)\n",
    "    print('PrivateKey: ' + str(d))\n",
    "    return d"
   ]
  },
  {
   "cell_type": "markdown",
   "metadata": {},
   "source": [
    "### Chave pública\n",
    "A chave pública é obtida a partir do **basepoint** e da chave privada : `q = d * G`"
   ]
  },
  {
   "cell_type": "code",
   "execution_count": 4,
   "metadata": {},
   "outputs": [],
   "source": [
    "def generatePublicKey(generatorPoint, d):\n",
    "    q = d * generatorPoint\n",
    "    print('PublicKey: ' + str(q))\n",
    "    return q"
   ]
  },
  {
   "cell_type": "markdown",
   "metadata": {},
   "source": [
    "Na função abaixo geramos o **basepoint** e depois a **chave privada** e a respetiva **chave pública**."
   ]
  },
  {
   "cell_type": "code",
   "execution_count": 5,
   "metadata": {},
   "outputs": [],
   "source": [
    "def generateKeys(n):\n",
    "    generatorPoint = generateGeneratorPoint()\n",
    "    d = generatePrivateKey(n)\n",
    "    q = generatePublicKey(generatorPoint, d)\n",
    "    return (generatorPoint,d,q)"
   ]
  },
  {
   "cell_type": "markdown",
   "metadata": {},
   "source": [
    "## Assinatura de uma mensagem\n",
    "Para assinar uma mensagem precisamos da **chave privada**, do **basepoint**, do `n` e da mensagem `m`.\n",
    "\n",
    "O primeiro passo é calcular `e`: `e = hash(m)`\n",
    "\n",
    "Depois temos de calcular os pares de chave temporarios (`k,r`) tal que `r` e `s` , depois de computados, têm de ser maiores que 0.\n",
    "\n",
    "Após isso calculamos `s`: `( ( e + d*r ) / k ) mod n`\n",
    "\n",
    "\n",
    "Terminados os cálculos, juntamos estes dois fatores para formar a assinatura: `assinatura = (r,s)`"
   ]
  },
  {
   "cell_type": "markdown",
   "metadata": {},
   "source": [
    "###  Pares de chave temporários\n",
    "* **k** - inteiro compreendido: 0 < k < n-1\n",
    "* **r** - para calcular `r`precisamos de:\n",
    "    * **R** - `k * basepoint`\n",
    "    * **Rx** - Componente x de R\n",
    "    * **r** - `Rx mod n`"
   ]
  },
  {
   "cell_type": "code",
   "execution_count": 6,
   "metadata": {},
   "outputs": [],
   "source": [
    "def generateEphemeral(n,generatorPoint):\n",
    "    while(true):\n",
    "        k = ZZ.random_element(1,n-1)\n",
    "        R = k*generatorPoint\n",
    "        Rx = R[0]\n",
    "        #print('Rx: ' + str(Rx))\n",
    "        r = mod(Rx,n)\n",
    "        if(r > 0):\n",
    "            break\n",
    "    #print('k: ' + str(k))\n",
    "    #print('r: ' + str(r))\n",
    "    return (r,k)"
   ]
  },
  {
   "cell_type": "markdown",
   "metadata": {},
   "source": [
    "Na função em baixo vemos o processo de assinatura de uma mensagem `m`."
   ]
  },
  {
   "cell_type": "code",
   "execution_count": 7,
   "metadata": {},
   "outputs": [],
   "source": [
    "def signMessage(privateKey,n,generatorPoint,m):\n",
    "    e = hash(m)\n",
    "    \n",
    "    while(true):\n",
    "        (r,k) = generateEphemeral(n,generatorPoint)\n",
    "\n",
    "        dr = privateKey*r \n",
    "        s1 = e + dr\n",
    "        s = power_mod(s1/k,1,n)\n",
    "        if(s > 0):\n",
    "            break\n",
    "    signature = (r,s)\n",
    "    print('Signature: ' + str(signature))\n",
    "    return signature"
   ]
  },
  {
   "cell_type": "markdown",
   "metadata": {},
   "source": [
    "## Verificar Assinatura\n",
    "Após a assinatura é necessário a operação de verificação de assinatura. \n",
    "\n",
    "O primeiro passo é verificar os tamanhos de `r` e `s`: \n",
    "* `0 < r < n`\n",
    "* `0 < s < n`\n",
    "\n",
    "Depois calculamos a hash da mensagem: `e = hash(m)`.\n",
    "\n",
    "Depois calculamos:\n",
    "* **w**: `w = s^(-1) mod n`\n",
    "* **u1** : `u1 = (e*w) mod n`\n",
    "* **u2** : `u2 = (r*w) mod n`\n",
    "* **P**: `P = (u1*G) + (u2*q)`\n",
    "\n",
    "A partir deste `P`, pegamos na sua componente x: `px = P[0]`.\n",
    "\n",
    "A verificação da assinatura corresponde ao valor de verdade da comparação: `px == r mod n`"
   ]
  },
  {
   "cell_type": "code",
   "execution_count": 8,
   "metadata": {},
   "outputs": [],
   "source": [
    "def verifySignature(signature,n,generatorPoint,publicKey,m):\n",
    "    (r,s) = signature\n",
    "    \n",
    "    nr = n-r\n",
    "    ns = n-s\n",
    "    if(r<=0):\n",
    "        print('r negativo!')\n",
    "        return ''\n",
    "    if(nr<=0):\n",
    "        print('r maior que n!')\n",
    "        return ''\n",
    "    if(s<=0):\n",
    "        print('s negativo!')\n",
    "        return ''\n",
    "    if(ns<=0):\n",
    "        print('s maior que n!')\n",
    "        return ''\n",
    "    \n",
    "    e = hash(m)\n",
    "    \n",
    "    w = power_mod(ZZ(s),-1,n)\n",
    "    \n",
    "    u1 = power_mod(e*w,1,n)\n",
    "    u2 = power_mod(r*w,1,n)\n",
    "    \n",
    "    P1 =(u1*generatorPoint) \n",
    "    P2 = (ZZ(u2)*(publicKey))\n",
    "    P = P1+P2\n",
    "    px = ZZ(P[0])\n",
    "    #print('px: ' + str(px))\n",
    "    r2 = mod(r,n)\n",
    "    if(px==r2):\n",
    "        return 'Assinatura válida'\n",
    "    else:\n",
    "        return 'Assinatura inválida'"
   ]
  },
  {
   "cell_type": "code",
   "execution_count": 9,
   "metadata": {},
   "outputs": [],
   "source": [
    "def main():\n",
    "    n = FIPS['P-384']['n']\n",
    "    (generatorPoint,privateKey,publicKey) = generateKeys(n)\n",
    "    # privateKey: d\n",
    "    #publicKey: q\n",
    "    m = b'Teste1'\n",
    "    signature = signMessage(privateKey,n,generatorPoint,m)\n",
    "    \n",
    "    ver1 = verifySignature(signature,n,generatorPoint,publicKey,m)\n",
    "    print(ver1)\n",
    "    \n",
    "    m2 = b'Teste2'\n",
    "    ver2 = verifySignature(signature,n,generatorPoint,publicKey,m2)\n",
    "    print(ver2)"
   ]
  },
  {
   "cell_type": "code",
   "execution_count": 10,
   "metadata": {},
   "outputs": [
    {
     "name": "stdout",
     "output_type": "stream",
     "text": [
      "GeneratorPoint: (26247035095799689268623156744566981891852923491109213387815615900925518854738050089022388053975719786650872476732087 : 8325710961489029985546751289520108179287853048861315594709205902480503199884419224438643760392947333078086511627871 : 1)\n",
      "PrivateKey: 1499961194089041594989267749693466375516061955966173445738540609050028546136429468571417759373282858882629261496437\n",
      "PublicKey: (38356239539061280559295253027596776409053173527846434327980116481614234960832146275096817321063885359745657986714655 : 17933718182994855887312861053349200714851311134907197981116460095768359562411941333432643864731702148702724385957217 : 1)\n",
      "Signature: (28942175561032238902075224737620032476565108248748786905064954331365788513231411645991391898240976798141982687068775, 9569388589252713622592385943309847000080762154327147246231516782944273912956358613768422028028527659566392364964506)\n",
      "Assinatura válida\n",
      "Assinatura inválida\n"
     ]
    }
   ],
   "source": [
    "main()"
   ]
  },
  {
   "cell_type": "code",
   "execution_count": null,
   "metadata": {},
   "outputs": [],
   "source": []
  }
 ],
 "metadata": {
  "kernelspec": {
   "display_name": "SageMath 8.9",
   "language": "sage",
   "name": "sagemath"
  },
  "language_info": {
   "codemirror_mode": {
    "name": "ipython",
    "version": 2
   },
   "file_extension": ".py",
   "mimetype": "text/x-python",
   "name": "python",
   "nbconvert_exporter": "python",
   "pygments_lexer": "ipython2",
   "version": "2.7.15"
  }
 },
 "nbformat": 4,
 "nbformat_minor": 2
}
