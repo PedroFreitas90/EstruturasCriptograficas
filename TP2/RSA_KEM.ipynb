{
 "cells": [
  {
   "cell_type": "markdown",
   "metadata": {},
   "source": [
    "# RSA-KEM-OAEP"
   ]
  },
  {
   "cell_type": "code",
   "execution_count": 1,
   "metadata": {},
   "outputs": [],
   "source": [
    "def rprime(l):\n",
    "        return random_prime(2**l-1,True,2**(l-1))"
   ]
  },
  {
   "cell_type": "code",
   "execution_count": 2,
   "metadata": {},
   "outputs": [],
   "source": [
    "l = 1024\n",
    "q = rprime(l)\n",
    "p = rprime(l+1)\n",
    "\n",
    "\n",
    "N = p * q \n",
    "phi = (p-1)*(q-1)\n",
    "\n",
    "\n",
    "G = IntegerModRing(phi) \n",
    "R = IntegerModRing(N)\n",
    "\n",
    "e = G(rprime(512)) #public exponent\n",
    "s = 1/e #private exponent\n",
    "\n"
   ]
  },
  {
   "cell_type": "code",
   "execution_count": 3,
   "metadata": {},
   "outputs": [],
   "source": [
    "def OAEP(m): ##OAEP encrypt\n",
    "    a = R(m)\n",
    "    cm = a**e\n",
    "    return cm\n",
    "def OAEPinv(cm):\n",
    "    b=R(cm)\n",
    "    dm = b**s\n",
    "    return dm"
   ]
  },
  {
   "cell_type": "code",
   "execution_count": 5,
   "metadata": {},
   "outputs": [
    {
     "name": "stdout",
     "output_type": "stream",
     "text": [
      "k: -532837520795151889\n",
      "c: 20748177217202028393605243178922615602591825517412361949883806272337184899999261744325654624230452250409392764048597873814316568987797334727187673588636292689145124468274811756672656900720782183206780569068462988292237469876404967327060652193054748950682374500571346489305432433696316370165706173604961504414226041346566410302244774682166901521595413448166002540221032403360178269090090014391170635645419432251249851701368542671788135147554434889429405598627157648953843362292693678387885507771836977669323909157864400886669685742219459626218695561888330293956898851250893886607815402807650805619957086815232351023148\n",
      "k1: -532837520795151889\n"
     ]
    }
   ],
   "source": [
    "def encapsulation():\n",
    "    x = randint(1,N-1)\n",
    "    c = OAEP(x)\n",
    "    k = hash(x)\n",
    "    return (k,c)\n",
    "\n",
    "(k,c) = encapsulation()\n",
    "print('k: ' + str(k))\n",
    "print('c: ' + str(c))\n",
    "\n",
    "def decapsulation(c):\n",
    "    x = OAEPinv(c)\n",
    "    k = hash(x)\n",
    "    return k\n",
    "\n",
    "k1 = decapsulation(c)\n",
    "print('k1: ' + str(k1))"
   ]
  },
  {
   "cell_type": "code",
   "execution_count": null,
   "metadata": {},
   "outputs": [],
   "source": []
  }
 ],
 "metadata": {
  "kernelspec": {
   "display_name": "SageMath 8.9",
   "language": "sage",
   "name": "sagemath"
  },
  "language_info": {
   "codemirror_mode": {
    "name": "ipython",
    "version": 2
   },
   "file_extension": ".py",
   "mimetype": "text/x-python",
   "name": "python",
   "nbconvert_exporter": "python",
   "pygments_lexer": "ipython2",
   "version": "2.7.15"
  }
 },
 "nbformat": 4,
 "nbformat_minor": 2
}
