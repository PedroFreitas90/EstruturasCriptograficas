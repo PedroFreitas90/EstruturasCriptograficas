{
 "cells": [
  {
   "cell_type": "markdown",
   "metadata": {},
   "source": [
    "# Exercício 1 - Esquema KEM- RSA-OAEP"
   ]
  },
  {
   "cell_type": "markdown",
   "metadata": {},
   "source": [
    "Neste exercício temos de implementar um esquema KEM- RSA-OAEP  que deve :\n",
    "* **Inicializar cada instância recebendo como parâmetro obrigatório o parâmetro de segurança (tamanho em bits do módulo RSA-OAEP) e gerando as chaves pública e privada**\n",
    "* **Conter funções para encapsulamento e revelação da chave gerada.**\n",
    "* **Construir,  a partir deste KEM e usando a transformação de Fujisaki-Okamoto, um PKE que seja IND-CCA seguro.**\n",
    "\n",
    "Ao longo deste documento vamos explicar o algoritmo de cada um dos processos acima expostos."
   ]
  },
  {
   "cell_type": "markdown",
   "metadata": {},
   "source": [
    "## Gerar Parâmetros\n",
    "Neste processo vamos gerar os parâmetros essenciais que são a base do algoritmo do RSA:\n",
    "    - 2 números primos p e q;\n",
    "    - n is the modulus for the public key and the private keys;\n",
    "    - phi is the coprime count of n;"
   ]
  },
  {
   "cell_type": "code",
   "execution_count": 29,
   "metadata": {},
   "outputs": [],
   "source": [
    "def rprime(l):\n",
    "        return random_prime(2**l-1,True,2**(l-1))"
   ]
  },
  {
   "cell_type": "code",
   "execution_count": 30,
   "metadata": {},
   "outputs": [],
   "source": [
    "l = 1024\n",
    "\n",
    "q = rprime(l)\n",
    "p = rprime(l+1)"
   ]
  },
  {
   "cell_type": "code",
   "execution_count": 31,
   "metadata": {},
   "outputs": [],
   "source": [
    "n = p * q \n",
    "phi = (p-1)*(q-1)"
   ]
  },
  {
   "cell_type": "markdown",
   "metadata": {},
   "source": [
    "## OAEP padding\n",
    "Neste processo vamos gerar os parâmetros essenciais que são a base do algoritmo do RSA:\n",
    "    - G e R são random oracles;"
   ]
  },
  {
   "cell_type": "code",
   "execution_count": 32,
   "metadata": {},
   "outputs": [],
   "source": [
    "G = IntegerModRing(phi) \n",
    "R = IntegerModRing(n)\n",
    "\n",
    "\n",
    "e = G(rprime(512))\n",
    "s = 1/e"
   ]
  },
  {
   "cell_type": "code",
   "execution_count": 33,
   "metadata": {},
   "outputs": [],
   "source": [
    "def cifrar(m): ##OAEP encrypt\n",
    "    a = R(m)\n",
    "    cm = a**e\n",
    "    return cm\n",
    "def decifrar(cm):\n",
    "    b=R(cm)\n",
    "    dm = b**s\n",
    "    return dm"
   ]
  },
  {
   "cell_type": "code",
   "execution_count": 34,
   "metadata": {},
   "outputs": [
    {
     "name": "stdout",
     "output_type": "stream",
     "text": [
      "72697676798779827668\n",
      "32443697595655338769266705739099664554702053479986657978109853440040317061226009255021916432545379394829658426822900944347554865730694633811735335268986824407616202880999175306923199289053676664361379304080642083674769749357137947234503889382829531077675782906698184452947595845837811830673929026411327691360111463216687718664928101057063289274476024006787294649783906946557612231754224764744708507918656946939382826354935608195466504117550042019205690785941732453676179134257435261251840640535940176609912429320034729809255785669126322387717534925345846809820673781606853858088233616833824465216238130450087182294893\n",
      "True\n"
     ]
    }
   ],
   "source": [
    "m = \"HELLOWORLD\"\n",
    "m = [ord(x) for x in m]\n",
    "m = ZZ(list(reversed(m)), 100)\n",
    "\n",
    "print (m)\n",
    "c = cifrar(m)\n",
    "print (c)\n",
    "dec = decifrar(c)\n",
    "print (m == dec)"
   ]
  },
  {
   "cell_type": "code",
   "execution_count": null,
   "metadata": {},
   "outputs": [],
   "source": []
  },
  {
   "cell_type": "code",
   "execution_count": null,
   "metadata": {},
   "outputs": [],
   "source": []
  }
 ],
 "metadata": {
  "kernelspec": {
   "display_name": "SageMath 9.0",
   "language": "sage",
   "name": "sagemath"
  },
  "language_info": {
   "codemirror_mode": {
    "name": "ipython",
    "version": 3
   },
   "file_extension": ".py",
   "mimetype": "text/x-python",
   "name": "python",
   "nbconvert_exporter": "python",
   "pygments_lexer": "ipython3",
   "version": "3.7.6"
  }
 },
 "nbformat": 4,
 "nbformat_minor": 2
}
