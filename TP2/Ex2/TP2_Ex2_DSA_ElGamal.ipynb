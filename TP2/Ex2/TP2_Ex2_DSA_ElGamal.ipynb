{
 "cells": [
  {
   "cell_type": "markdown",
   "metadata": {},
   "source": [
    "# Exercício 2 - DSA"
   ]
  },
  {
   "cell_type": "markdown",
   "metadata": {},
   "source": [
    "Neste exercício temos de implementar um algoritmo de DSA.\n",
    "\n",
    "Como tal existem vários algoritmos disponíveis. Após uma breve conversa entre os dois elementos do grupo achamos por bem implementar uma definição do algoritmos de assinatura de **El Gamal** visto que já foi bastantes vezes referida e falada tanto na unidade curricular anterior (Tecnologias Criptográficas) como nesta mesma unidade curricular. Esta definição encontra-se nos anexos deste relatório."
   ]
  },
  {
   "cell_type": "markdown",
   "metadata": {},
   "source": [
    "#### Parâmetro p:\n",
    "* **p** - Um número primo de tamanho 2^(tamanho-1)"
   ]
  },
  {
   "cell_type": "code",
   "execution_count": 1,
   "metadata": {},
   "outputs": [],
   "source": [
    "def generateP(tam):\n",
    "    p = random_prime(2^(tam-1))\n",
    "    print(\"p: \"+ str(p))\n",
    "    return p"
   ]
  },
  {
   "cell_type": "markdown",
   "metadata": {},
   "source": [
    "#### Parâmetro g:\n",
    "* **g** - Inteiro compreendido em: 0 < g < p , tal que este será um gerador"
   ]
  },
  {
   "cell_type": "code",
   "execution_count": 2,
   "metadata": {},
   "outputs": [],
   "source": [
    "def generateG(p):\n",
    "    g = randint(1,p-1)\n",
    "    print(\"g: \"+ str(g))\n",
    "    return g"
   ]
  },
  {
   "cell_type": "markdown",
   "metadata": {},
   "source": [
    "#### Gerador de parâmetros:\n",
    "`generateParameters()` é a função é responsável por gerar os parâmetros:\n",
    "* **p**\n",
    "* **g**"
   ]
  },
  {
   "cell_type": "code",
   "execution_count": 3,
   "metadata": {},
   "outputs": [],
   "source": [
    "def generateParameters(tam):\n",
    "    p = generateP(tam)\n",
    "    g = generateG(p)\n",
    "    return p,g"
   ]
  },
  {
   "cell_type": "markdown",
   "metadata": {},
   "source": [
    "#### Parâmetro x :\n",
    "* **x** - Inteiro compreendido entre os valores: 1 < x < p-1\n",
    "\n",
    "Este parâmetro é o segredo do utilizador, que será usado na chave privada e na geração da chave pública."
   ]
  },
  {
   "cell_type": "code",
   "execution_count": 4,
   "metadata": {},
   "outputs": [],
   "source": [
    "def generateX(p):\n",
    "    x = randint(2,p-2)\n",
    "    print('x: ' + str(x))\n",
    "    return x"
   ]
  },
  {
   "cell_type": "markdown",
   "metadata": {},
   "source": [
    "#### Chave privada\n",
    "Esta é a função que recebe os parâmetros e compõe a chave privada."
   ]
  },
  {
   "cell_type": "code",
   "execution_count": 5,
   "metadata": {},
   "outputs": [],
   "source": [
    "def createPrivateKey(p,g,x):\n",
    "    privateKey= (p,g,x)\n",
    "    print('privateKey: ' + str(privateKey))\n",
    "    return privateKey"
   ]
  },
  {
   "cell_type": "markdown",
   "metadata": {},
   "source": [
    "#### Chave pública\n",
    "Esta função é a que recebe os paramatros e compõe a chave pública"
   ]
  },
  {
   "cell_type": "code",
   "execution_count": 6,
   "metadata": {},
   "outputs": [],
   "source": [
    "def createPublicKey(p,g,y):\n",
    "    publicKey = (p,g,y)\n",
    "    print('publicKey: ' + str(publicKey))\n",
    "    return publicKey"
   ]
  },
  {
   "cell_type": "markdown",
   "metadata": {},
   "source": [
    "#### Gerador de Chave\n",
    "`generateKey(p,g)` é uma função que cria a chave pública e a chave privada.\n",
    "Começa-se por gerar a parte do segredo da chave privada, sendo invocada a função `generateX(p)`.\n",
    "\n",
    "Depois a partir desse valor chega-se à parte pública da chave com a operação: `(g^x) mod p`.\n",
    "\n",
    "Tendo esses dois valores as chaves privada e pública são compostas com as seguintes funções, respetivamente, `createPrivateKey(p,g,x)` e `createPublicKey(p,g,y)`"
   ]
  },
  {
   "cell_type": "code",
   "execution_count": 7,
   "metadata": {},
   "outputs": [],
   "source": [
    "def generateKey(p,g):\n",
    "    x = generateX(p)\n",
    "    \n",
    "    y =pow(g,x,p)\n",
    "    print('y: ' + str(y))\n",
    "    \n",
    "    privateKey = createPrivateKey(p,g,x)\n",
    "    publicKey = createPublicKey(p,g,y)\n",
    "    \n",
    "    return publicKey,privateKey    "
   ]
  },
  {
   "cell_type": "markdown",
   "metadata": {},
   "source": [
    "#### Parâmetro k:\n",
    "* **k** - Inteiro compreendido entre os valores: 0<k<p-1 e gcd(k,p-1) = 1"
   ]
  },
  {
   "cell_type": "code",
   "execution_count": 8,
   "metadata": {},
   "outputs": [],
   "source": [
    "def generateK(p):\n",
    "    while(true):\n",
    "        aux = randint(1,p-2)\n",
    "        if(gcd(aux,p-1)== 1):\n",
    "            print('found')\n",
    "            k = aux\n",
    "            break\n",
    "        print('next')\n",
    "    print(\"k: \"+ str(k))\n",
    "    return k"
   ]
  },
  {
   "cell_type": "markdown",
   "metadata": {},
   "source": [
    "#### Assinatura\n",
    "Esta função é a responsável pela assinatura de uma mensagem, recebendo como argumentos a chave privada e a mensagem.\n",
    "\n",
    "Esta começa por decompor a chave privada pelos 3 parâmetros que a compõe: `p,g,x`.\n",
    "\n",
    "Após isso gera-se um inteiro `k` com a função `generateK(p)`.\n",
    "\n",
    "A partir deste `k` podemos calcular `r` e `l`:\n",
    "* **r** : `r = g^k mod p`\n",
    "* **l** : `l = k^-1 mod(p-1)`\n",
    "\n",
    "Após isso calculamos `re`:\n",
    "* **re**: `re = l*(hash(m)-r*x)`\n",
    "\n",
    "Assim podemos calcular `s`:\n",
    "* **s**: `s = re mod(p-1)`\n",
    "\n",
    "Após verificarmos se este é positivo, criamos a assinatura com os parâmetros s e r: `signature=(r,s)`"
   ]
  },
  {
   "cell_type": "code",
   "execution_count": 9,
   "metadata": {},
   "outputs": [],
   "source": [
    "def signMessage(privateKey,m):\n",
    "    (p,g,x) = privateKey\n",
    "    k = generateK(p)\n",
    "    #g^k mod p\n",
    "    r = power_mod(g,k,p)\n",
    "    #print('r: ' + str(r))\n",
    "    l = power_mod(k,-1,p-1)\n",
    "    #print('l: ' + str(l))\n",
    "    re = l*(hash(m)-r*x)\n",
    "    #print('re: ' + str(re))\n",
    "    s= power_mod(re,1,p-1)\n",
    "    #print('s: ' + str(s))\n",
    "    if (s < 0):\n",
    "        print('s < 0')\n",
    "        return ''\n",
    "    signature = (r,s)\n",
    "    print('signature: ' + str(signature))\n",
    "    return signature"
   ]
  },
  {
   "cell_type": "markdown",
   "metadata": {},
   "source": [
    "#### Verificação da assinatura\n",
    "Esta função recebe como argumentos a chave pública, a mensagem e assinatura e é responsável se a assinatura é válida com aquela chave e com aquela mensagem.\n",
    "\n",
    "O primeiro passo está em decompor a chave pública pelos três parâmetros que a compõe: `(p,g,y)`.\n",
    "Faremos o mesmo com a assinatura, obtendo agora: `(r,s)`.\n",
    "\n",
    "A primeira fase da verificação da assinatura passa por verificar o tamanho dos parâmetros que a compõe:\n",
    "* **r**: 0<r<p\n",
    "* **s**: 0<s<p-1\n",
    "\n",
    "Depois temos que fazer o calculo de dois valores e fazer a sua comparação: `val1` e `val2`:\n",
    "* **val1** - Precisa de 4 operações distintas.\n",
    "    * **cal1** - `y^r`\n",
    "    * **cal2** - `r^s`\n",
    "    * **cal** - `cal1*cal2`\n",
    "    \n",
    "    `val1 = cal mod p <=> val1 = y^r * r^s mod `\n",
    "\n",
    "* **val2** - `g^(hash(m)) mod `\n",
    "\n",
    "Depois deste cálculo a vericidade da assinatura depende do resultado da comparação destes dois valores:\n",
    "* **Verdadeiro** se `val1 == val2`\n",
    "* **Falso** se `val1 != val2`"
   ]
  },
  {
   "cell_type": "code",
   "execution_count": 10,
   "metadata": {},
   "outputs": [],
   "source": [
    "def verifySignature(publicKey, m, signature):\n",
    "    (p,g,y) = publicKey\n",
    "    (r,s) = signature\n",
    "\n",
    "    if(r<=0 or r >= p):\n",
    "        print('Erro no tamanho de r')\n",
    "        return False\n",
    "    if(s<=0 or s >= p-1):\n",
    "        print('Erro no tamanho de s')\n",
    "        return False\n",
    "    \n",
    "    cal1 = y^r\n",
    "    #print('tenho cal1')\n",
    "    cal2 = r^s\n",
    "    #print('tenho cal2')\n",
    "    cal = cal1*cal2\n",
    "    #print('tenho cal')\n",
    "    #print('cal: ' +str(cal))\n",
    "    \n",
    "    val1= power_mod(cal,1,p)\n",
    "    print('val1: ' + str(val1))\n",
    "    val2 = power_mod(g,hash(m),p)\n",
    "    print('val2: ' + str(val2))\n",
    "    \n",
    "    if(val1==val2):\n",
    "        return True\n",
    "    else:\n",
    "        return False"
   ]
  },
  {
   "cell_type": "markdown",
   "metadata": {},
   "source": [
    "#### Main\n",
    "Esta função é a responsável por testar todas as funcionalidades implementadas.\n",
    "\n",
    "Esta começa por gerar os parâmetros iniciais necessários para todo o processo.\n",
    "\n",
    "Depois gera as chaves (privada e pública).\n",
    "\n",
    "Assina uma mensagem com a chave privada e depois vai verificar essa mesma assinatura dessa mensagem.\n",
    "\n",
    "A `main1` verifica com a mesma mensagem.\n",
    "\n",
    "a `main2` verifica com uma mensagem diferente, provocando o erro propositado."
   ]
  },
  {
   "cell_type": "code",
   "execution_count": 11,
   "metadata": {},
   "outputs": [],
   "source": [
    "def main1():\n",
    "    p,g = generateParameters(32)\n",
    "    \n",
    "    publicKey, privateKey = generateKey(p,g)\n",
    "    \n",
    "    m=b\"Vamos assinar esta mensagem\"\n",
    "    signature = signMessage(privateKey,m)\n",
    "    if(signature == ''):\n",
    "        print('Erro na assinatura da mensagem')\n",
    "    \n",
    "    value = verifySignature(publicKey,m,signature)\n",
    "    print('value: ' + str(value))\n",
    "    "
   ]
  },
  {
   "cell_type": "code",
   "execution_count": 12,
   "metadata": {},
   "outputs": [
    {
     "name": "stdout",
     "output_type": "stream",
     "text": [
      "p: 1313265407\n",
      "g: 1012401640\n",
      "x: 151227531\n",
      "y: 13900529\n",
      "privateKey: (1313265407, 1012401640, 151227531)\n",
      "publicKey: (1313265407, 1012401640, 13900529)\n",
      "found\n",
      "k: 1298952741\n",
      "signature: (531754049, 547029059)\n",
      "val1: 1287102045\n",
      "val2: 1287102045\n",
      "value: True\n"
     ]
    }
   ],
   "source": [
    "main1()"
   ]
  },
  {
   "cell_type": "code",
   "execution_count": 13,
   "metadata": {},
   "outputs": [],
   "source": [
    "def main2():\n",
    "    p,g = generateParameters(32)\n",
    "    \n",
    "    publicKey, privateKey = generateKey(p,g)\n",
    "    \n",
    "    m=123\n",
    "    signature = signMessage(privateKey,m)\n",
    "    if(signature == ''):\n",
    "        print('Erro na assinatura da mensagem')\n",
    "    \n",
    "    m2 =456\n",
    "    value = verifySignature(publicKey,m2,signature)\n",
    "    print('value: ' + str(value))"
   ]
  },
  {
   "cell_type": "code",
   "execution_count": null,
   "metadata": {},
   "outputs": [],
   "source": [
    "main2()"
   ]
  }
 ],
 "metadata": {
  "kernelspec": {
   "display_name": "SageMath 8.9",
   "language": "sage",
   "name": "sagemath"
  },
  "language_info": {
   "codemirror_mode": {
    "name": "ipython",
    "version": 2
   },
   "file_extension": ".py",
   "mimetype": "text/x-python",
   "name": "python",
   "nbconvert_exporter": "python",
   "pygments_lexer": "ipython2",
   "version": "2.7.15"
  }
 },
 "nbformat": 4,
 "nbformat_minor": 2
}
