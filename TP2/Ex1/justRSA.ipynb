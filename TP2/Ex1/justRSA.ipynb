{
 "cells": [
  {
   "cell_type": "code",
   "execution_count": null,
   "metadata": {},
   "outputs": [],
   "source": [
    "def rprime(l):\n",
    "        return random_prime(2**l-1,True,2**(l-1))"
   ]
  },
  {
   "cell_type": "code",
   "execution_count": null,
   "metadata": {},
   "outputs": [],
   "source": [
    "l = 1024\n",
    "\n",
    "m = \"HELLOWORLD\"\n",
    "m = [ord(x) for x in m]\n",
    "m = ZZ(list(reversed(m)), 100)\n",
    "\n",
    "q = rprime(l)\n",
    "p = rprime(l+1)\n",
    "\n",
    "n = p * q \n",
    "phi = (p-1)*(q-1)\n",
    "\n",
    "e = ZZ.random_element(phi)\n",
    "while gcd(e, phi) != 1:\n",
    "    e = ZZ.random_element(phi)\n",
    "\n",
    "bezout = xgcd(e, phi)\n",
    "d = Integer(mod(bezout[1], phi))\n",
    "\n",
    "c = power_mod(m, e, n)\n",
    "    \n",
    "    \n",
    "power_mod(c, d, n) == m"
   ]
  },
  {
   "cell_type": "code",
   "execution_count": null,
   "metadata": {},
   "outputs": [],
   "source": [
    "# RSA public key\n",
    "(n,e) \n",
    "\n",
    "# RSA private key \n",
    "(p,q,d)"
   ]
  },
  {
   "cell_type": "code",
   "execution_count": null,
   "metadata": {},
   "outputs": [],
   "source": []
  }
 ],
 "metadata": {
  "kernelspec": {
   "display_name": "SageMath 8.9",
   "language": "sage",
   "name": "sagemath"
  },
  "language_info": {
   "codemirror_mode": {
    "name": "ipython",
    "version": 2
   },
   "file_extension": ".py",
   "mimetype": "text/x-python",
   "name": "python",
   "nbconvert_exporter": "python",
   "pygments_lexer": "ipython2",
   "version": "2.7.15"
  }
 },
 "nbformat": 4,
 "nbformat_minor": 2
}
