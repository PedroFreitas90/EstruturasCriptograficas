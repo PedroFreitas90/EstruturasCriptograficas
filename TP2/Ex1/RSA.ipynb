{
 "cells": [
  {
   "cell_type": "markdown",
   "metadata": {},
   "source": [
    "# Exercício 1 - Esquema KEM- RSA-OAEP"
   ]
  },
  {
   "cell_type": "markdown",
   "metadata": {},
   "source": [
    "Neste exercício temos de implementar um esquema KEM- RSA-OAEP  que deve :\n",
    "* **Inicializar cada instância recebendo como parâmetro obrigatório o parâmetro de segurança (tamanho em bits do módulo RSA-OAEP) e gerando as chaves pública e privada**\n",
    "* **Conter funções para encapsulamento e revelação da chave gerada.**\n",
    "* **Construir,  a partir deste KEM e usando a transformação de Fujisaki-Okamoto, um PKE que seja IND-CCA seguro.**\n",
    "\n",
    "Ao longo deste documento vamos explicar o algoritmo de cada um dos processos acima expostos."
   ]
  },
  {
   "cell_type": "markdown",
   "metadata": {},
   "source": [
    "## Gerar Parâmetros\n",
    "Neste processo vamos gerar os parâmetros essenciais que são a base do algoritmo do RSA:\n",
    "    - 2 números primos p e q;\n",
    "    - n é o módulo para a chave pública e a chave privada;\n",
    "    - phi é co-prime com n;"
   ]
  },
  {
   "cell_type": "code",
   "execution_count": 1,
   "metadata": {},
   "outputs": [],
   "source": [
    "def rprime(l):\n",
    "        return random_prime(2**l-1,True,2**(l-1))"
   ]
  },
  {
   "cell_type": "code",
   "execution_count": 2,
   "metadata": {},
   "outputs": [],
   "source": [
    "l = 1024\n",
    "q = rprime(l)\n",
    "p = rprime(l+1)\n",
    "\n",
    "\n",
    "N = p * q \n",
    "phi = (p-1)*(q-1)\n"
   ]
  },
  {
   "cell_type": "markdown",
   "metadata": {},
   "source": [
    "## Aplicação OAEP"
   ]
  },
  {
   "cell_type": "code",
   "execution_count": 3,
   "metadata": {},
   "outputs": [],
   "source": [
    "G = IntegerModRing(phi) \n",
    "R = IntegerModRing(N)\n",
    "\n",
    "\n",
    "def generateKeys():\n",
    "    e = G(rprime(512)) #public exponent\n",
    "    s = 1/e #private exponent\n",
    "    return (e,s)\n",
    "\n",
    "e,s = generateKeys()"
   ]
  },
  {
   "cell_type": "code",
   "execution_count": 4,
   "metadata": {},
   "outputs": [],
   "source": [
    "def OAEP(pk,m): ##OAEP encrypt\n",
    "    a = R(m)\n",
    "    cm = a**pk\n",
    "    return cm\n",
    "    \n",
    "\n",
    "def OAEPinv(sk,cm): ##OAEP decrypt\n",
    "    b=R(cm)\n",
    "    dm = b**sk\n",
    "    return dm"
   ]
  },
  {
   "cell_type": "markdown",
   "metadata": {},
   "source": [
    "### Funções auxiliares para as classes KEM e FOT"
   ]
  },
  {
   "cell_type": "code",
   "execution_count": 5,
   "metadata": {},
   "outputs": [],
   "source": [
    "def generateRandomString(size): # gera uma string de tamanho variável de 0 e 1 aleatórios.\n",
    "    i = 0\n",
    "    stream = \"\"\n",
    "    while(i<size):\n",
    "        j = randint(0,1)\n",
    "        stream = stream + str(j)\n",
    "        i+=1\n",
    "    return stream\n",
    "\n",
    "def generateZeroString(size): # gera uma string de tamanho variável de zeros.\n",
    "    i = 0\n",
    "    stream = \"\"\n",
    "    while(i<size):\n",
    "        stream = stream + str(0)\n",
    "        i+=1\n",
    "    return stream\n",
    "\n",
    "xor = lambda x, y: x.__xor__(y)\n",
    "\n",
    "def concat(i,j):\n",
    "    return i +j"
   ]
  },
  {
   "cell_type": "markdown",
   "metadata": {},
   "source": [
    "## KEM\n",
    "Esta classe contém funções para o encapsulamento e revelação da chave gerada."
   ]
  },
  {
   "cell_type": "code",
   "execution_count": 6,
   "metadata": {},
   "outputs": [],
   "source": [
    "class KEM:\n",
    "    def encrypt(self,pk,x,n):\n",
    "        return power_mod(x,ZZ(pk),n)\n",
    "        \n",
    "    def decrypt(self,sk,enc,n):\n",
    "        return power_mod(enc,ZZ(sk),n)\n",
    "    \n",
    "    def encapsulation(self,pk): #enc\n",
    "        x = randint(1,N-1)\n",
    "        #enc = self.encrypt(pk,x,N)\n",
    "        enc = OAEP(pk,x)\n",
    "        k = hash(x)\n",
    "        return (k,enc)\n",
    "\n",
    "    def reveal(self,sk,enc):\n",
    "        #x = self.decrypt(sk,enc,N)\n",
    "        x = OAEPinv(sk,enc)\n",
    "        k = hash(x)\n",
    "        return k\n",
    "    \n",
    "    def enc(self,pk):\n",
    "        a = generateRandomString(l)\n",
    "        zero = generateZeroString(l)\n",
    "        (k,enc) = self.encapsulation1(pk,concat(a,zero))\n",
    "        return (k,enc)\n",
    "    \n",
    "    def encapsulation1(self,pk,a0):\n",
    "        enc = OAEP(pk,int(a0))\n",
    "        print('encapsulation1- enc: ' + str(enc))\n",
    "        k = hash(enc)\n",
    "        print('encapsulation1- k: ' + str(k))\n",
    "        return (k,enc)"
   ]
  },
  {
   "cell_type": "code",
   "execution_count": 7,
   "metadata": {},
   "outputs": [
    {
     "name": "stdout",
     "output_type": "stream",
     "text": [
      "k: 512998086484580947\n",
      "enc: 27153798350488453393579947097394666019951551057479284154032211246840612741594011178026433334677928825456521577678505057884077778624181487799617226943469051577834408916714158504304016955835790092095007474764645011679425815285708504300569374443593188771949894758208634692108930324357143306879445684567016220794395280662929905453305038334005682816919605810496584608593338570933108069685194835506361959467549209987354661632816043372026338582947617633217761584932834382486477093178415605438415117580501420506887741847569785956942033826874440796755663965258983075370588470646894411424919747380178034982221641204015094381484\n",
      "k1: 512998086484580947\n",
      "encapsulation1- enc: 9523082982819910898910209604259368825246198166827502962535975618962961685145473700187163579522429735827116829757021541990895879157724865297625744148262416072679836325146560427580392233719680067200020550752816405741709846561869283176211962491900131310372270264516164215646196420010018178128569478974074238624613722609598779740316146767661397843770063634862382590100670497973632614832298355472509283588404184152248610227687974375440693199899101154709909727291360158921146678110244097893264115910918910868971193330373839028434289358166307960439775355820452314413509487393925504695199586857690895232489742853172113888135\n",
      "encapsulation1- k: 1166647538513584938\n",
      "teste: (1166647538513584938, 9523082982819910898910209604259368825246198166827502962535975618962961685145473700187163579522429735827116829757021541990895879157724865297625744148262416072679836325146560427580392233719680067200020550752816405741709846561869283176211962491900131310372270264516164215646196420010018178128569478974074238624613722609598779740316146767661397843770063634862382590100670497973632614832298355472509283588404184152248610227687974375440693199899101154709909727291360158921146678110244097893264115910918910868971193330373839028434289358166307960439775355820452314413509487393925504695199586857690895232489742853172113888135)\n"
     ]
    }
   ],
   "source": [
    "kem = KEM()\n",
    "(k,enc) = kem.encapsulation(e)\n",
    "print('k: ' + str(k))\n",
    "print('enc: ' + str(enc))\n",
    "\n",
    "k1 = kem.reveal(s,enc)\n",
    "print('k1: ' + str(k1))\n",
    "\n",
    "teste = kem.enc(e)\n",
    "print('teste: ' +str(teste))"
   ]
  },
  {
   "cell_type": "markdown",
   "metadata": {},
   "source": [
    "## PKE\n",
    "Esta classe implementa um esquema PKE( public key encryption) a partir do esquema KEM"
   ]
  },
  {
   "cell_type": "code",
   "execution_count": 8,
   "metadata": {},
   "outputs": [],
   "source": [
    "class PKE:\n",
    "    def __init__(self):\n",
    "        self.kem = KEM()\n",
    "    \n",
    "    def encrypt(self,pk,m):\n",
    "        (k,enc) = self.kem.encapsulation(pk)\n",
    "        c = xor(m,k)\n",
    "        return (enc,c)\n",
    "    \n",
    "    def decrypt(self,sk,c):\n",
    "        (enc,m1) = c\n",
    "        k = self.kem.reveal(sk,enc)\n",
    "        m = xor(m1,k)\n",
    "        return m"
   ]
  },
  {
   "cell_type": "markdown",
   "metadata": {},
   "source": [
    "## FOT\n",
    "Esta classe contém funções para implementar a transformação de Fujisaki-Okamoto que transforma PKE's que possuem IND-CPA seguro em outros PKE's que possuem IND-CCA seguros"
   ]
  },
  {
   "cell_type": "code",
   "execution_count": 9,
   "metadata": {},
   "outputs": [],
   "source": [
    "class FOT:\n",
    "    def __init__(self):\n",
    "        self.kem = KEM()\n",
    "        \n",
    "    def encrypt(self,pk,m):\n",
    "        a = generateRandomString(l)\n",
    "        (enc,k) = self.encrypt1(pk,m,a)\n",
    "        return (enc,k)\n",
    "    \n",
    "    def encrypt1(self,pk,a,m):\n",
    "        (enc,k) = kem.encapsulation1(pk,concat(a,hash(m)))\n",
    "        #print('encrypt1 - enc: ' + str(enc))\n",
    "        #print('encrypt1 - k: ' + str(k))\n",
    "        aux1 = concat(str(a),str(m))\n",
    "        #print('encrypt1 - aux1: ' + str(aux1))\n",
    "        aux2 = xor(int(aux1),int(k))\n",
    "        #print('encrypt1 - aux2: ' + str(aux2))\n",
    "        return (enc,aux2)\n",
    "    \n",
    "    def decrypt(self,sk,c):\n",
    "        (enc,m1) = c\n",
    "        k = kem.reveal(sk,enc)\n",
    "        print('decrypt- k: ' + str(k))\n",
    "        am = xor(m1,k)\n",
    "        a = am[0:l]\n",
    "        m = am[l:]\n",
    "        if(c == encrypt1(pk,a,m)):\n",
    "            return m\n",
    "        else: \n",
    "            return false"
   ]
  },
  {
   "cell_type": "code",
   "execution_count": null,
   "metadata": {
    "scrolled": true
   },
   "outputs": [],
   "source": [
    "pke = PKE()\n",
    "\n",
    "fot = FOT()\n",
    "pk = e\n",
    "sk = s\n",
    "\n",
    "m = 123\n",
    "c = pke.encrypt(pk,m)\n",
    "(enc,t) = c\n",
    "print('t: ' + str(t))\n",
    "m1 = pke.decrypt(sk,c)\n",
    "print('m1: ' + str(m1))\n",
    "\n",
    "c = fot.encrypt(pk,m)\n",
    "enc,k = c\n",
    "print('k: '+ str(k))\n",
    "c2 = fot.decrypt(sk,c)\n",
    "print(c2)"
   ]
  },
  {
   "cell_type": "markdown",
   "metadata": {},
   "source": [
    "### Nota\n",
    "\n",
    "De realçar que tivemos problemas na implementação de um PKE seja um IND-CCA seguro.Mesmo assim, colocámos o código da nossa tentativa."
   ]
  }
 ],
 "metadata": {
  "kernelspec": {
   "display_name": "SageMath 9.0",
   "language": "sage",
   "name": "sagemath"
  },
  "language_info": {
   "codemirror_mode": {
    "name": "ipython",
    "version": 3
   },
   "file_extension": ".py",
   "mimetype": "text/x-python",
   "name": "python",
   "nbconvert_exporter": "python",
   "pygments_lexer": "ipython3",
   "version": "3.7.6"
  }
 },
 "nbformat": 4,
 "nbformat_minor": 2
}
