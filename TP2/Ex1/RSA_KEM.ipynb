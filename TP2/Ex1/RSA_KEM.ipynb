{
 "cells": [
  {
   "cell_type": "markdown",
   "metadata": {},
   "source": [
    "# RSA-KEM-OAEP"
   ]
  },
  {
   "cell_type": "code",
   "execution_count": 1,
   "metadata": {},
   "outputs": [],
   "source": [
    "def rprime(l):\n",
    "        return random_prime(2**l-1,True,2**(l-1))"
   ]
  },
  {
   "cell_type": "code",
   "execution_count": 2,
   "metadata": {},
   "outputs": [],
   "source": [
    "l = 1024\n",
    "q = rprime(l)\n",
    "p = rprime(l+1)\n",
    "\n",
    "\n",
    "N = p * q \n",
    "phi = (p-1)*(q-1)\n",
    "\n",
    "\n",
    "G = IntegerModRing(phi) \n",
    "R = IntegerModRing(N)\n",
    "\n",
    "\n",
    "def generateKeys():\n",
    "    e = G(rprime(512)) #public exponent\n",
    "    s = 1/e #private exponent\n",
    "    return (e,s)\n",
    "\n",
    "e,s = generateKeys()"
   ]
  },
  {
   "cell_type": "code",
   "execution_count": 57,
   "metadata": {},
   "outputs": [],
   "source": [
    "def OAEP(pk,m): ##OAEP encrypt\n",
    "    a = R(m)\n",
    "    cm = a**pk\n",
    "    return cm\n",
    "    \n",
    "\n",
    "def OAEPinv(sk,cm):\n",
    "    b=R(cm)\n",
    "    dm = b**sk\n",
    "    return dm"
   ]
  },
  {
   "cell_type": "code",
   "execution_count": 74,
   "metadata": {},
   "outputs": [],
   "source": [
    "def generateRandomString(size):\n",
    "    i = 0\n",
    "    stream = \"\"\n",
    "    while(i<size):\n",
    "        j = randint(0,1)\n",
    "        stream = stream + str(j)\n",
    "        i+=1\n",
    "    return stream\n",
    "\n",
    "def generateZeroString(size):\n",
    "    i = 0\n",
    "    stream = \"\"\n",
    "    while(i<size):\n",
    "        stream = stream + str(0)\n",
    "        i+=1\n",
    "    return stream\n",
    "\n",
    "xor = lambda x, y: x.__xor__(y)\n",
    "\n",
    "def concat(i,j):\n",
    "    return i +j"
   ]
  },
  {
   "cell_type": "code",
   "execution_count": 92,
   "metadata": {},
   "outputs": [],
   "source": [
    "class KEM:\n",
    "    def encrypt(self,pk,x,n):\n",
    "        return power_mod(x,ZZ(pk),n)\n",
    "        \n",
    "    def decrypt(self,sk,enc,n):\n",
    "        return power_mod(enc,ZZ(sk),n)\n",
    "    \n",
    "    def encapsulation(self,pk): #enc\n",
    "        x = randint(1,N-1)\n",
    "        #enc = self.encrypt(pk,x,N)\n",
    "        enc = OAEP(pk,x)\n",
    "        k = hash(x)\n",
    "        return (k,enc)\n",
    "\n",
    "    def reveal(self,sk,enc):\n",
    "        #x = self.decrypt(sk,enc,N)\n",
    "        x = OAEPinv(sk,enc)\n",
    "        k = hash(x)\n",
    "        return k\n",
    "    \n",
    "    def enc(self,pk):\n",
    "        a = generateRandomString(l)\n",
    "        zero = generateZeroString(l)\n",
    "        (k,enc) = self.encapsulation1(pk,concat(a,zero))\n",
    "        return (k,enc)\n",
    "    \n",
    "    def encapsulation1(self,pk,a0):\n",
    "        enc = OAEP(pk,int(a0))\n",
    "        print('encapsulation1- enc: ' + str(enc))\n",
    "        k = hash(enc)\n",
    "        print('encapsulation1- k: ' + str(k))\n",
    "        return (k,enc)"
   ]
  },
  {
   "cell_type": "code",
   "execution_count": 93,
   "metadata": {},
   "outputs": [
    {
     "name": "stdout",
     "output_type": "stream",
     "text": [
      "k: 6890470786718148014\n",
      "enc: 4450759539630231728616291271908919186014212944379263381464373927648961320730482953060381232999177995286636297532621020972761438808273904433611813213221415128417578043706815637237018297714284333792423736445186599213450554143116999864053118388542883147815929995797063524813364195324609096718900481125193870154048895068680928730558836364773213479204993093420913271013127334703302545761971392340447155733713159190424445325699584052764671187516883438647363517370219925103708475480665778293283945682297094301797774645264768229656810347624707233798444822309024692910441428878724069556405173837480528790746551091702794954335\n",
      "k1: 6890470786718148014\n",
      "encapsulation1- enc: 29734667258673771269005928691833388948606088607124330786626520294546646014658022101778763618607380170223534844827059550815328876415194641750431527145271751716367920538369811809320734072369113261907410246576743874051361780595234311754580064631347516550236798925347894533723887283619728237721497907857499479183944906568468634982064405696528460711759165534408150608893703716412429622936251482883179974842528014175280333969036884797031223048794778442311599521034578701760977465071150523485557206894022329100703050870689434204733639196582989748576258509431725448769449653250479799627922338400356222764806641714407565808857\n",
      "encapsulation1- k: 1702680818923933257\n",
      "teste: (1702680818923933257, 29734667258673771269005928691833388948606088607124330786626520294546646014658022101778763618607380170223534844827059550815328876415194641750431527145271751716367920538369811809320734072369113261907410246576743874051361780595234311754580064631347516550236798925347894533723887283619728237721497907857499479183944906568468634982064405696528460711759165534408150608893703716412429622936251482883179974842528014175280333969036884797031223048794778442311599521034578701760977465071150523485557206894022329100703050870689434204733639196582989748576258509431725448769449653250479799627922338400356222764806641714407565808857)\n"
     ]
    }
   ],
   "source": [
    "kem = KEM()\n",
    "(k,enc) = kem.encapsulation(e)\n",
    "print('k: ' + str(k))\n",
    "print('enc: ' + str(enc))\n",
    "\n",
    "k1 = kem.reveal(s,enc)\n",
    "print('k1: ' + str(k1))\n",
    "\n",
    "teste = kem.enc(e)\n",
    "print('teste: ' +str(teste))"
   ]
  },
  {
   "cell_type": "code",
   "execution_count": 61,
   "metadata": {},
   "outputs": [],
   "source": [
    "class PKE:\n",
    "    def __init__(self):\n",
    "        self.kem = KEM()\n",
    "    \n",
    "    def encrypt(self,pk,m):\n",
    "        (k,enc) = self.kem.encapsulation(pk)\n",
    "        c = xor(m,k)\n",
    "        return (enc,c)\n",
    "    \n",
    "    def decrypt(self,sk,c):\n",
    "        (enc,m1) = c\n",
    "        k = self.kem.reveal(sk,enc)\n",
    "        m = xor(m1,k)\n",
    "        return m"
   ]
  },
  {
   "cell_type": "code",
   "execution_count": 101,
   "metadata": {},
   "outputs": [],
   "source": [
    "class FOT:\n",
    "    def __init__(self):\n",
    "        self.kem = KEM()\n",
    "        \n",
    "    def encrypt(self,pk,m):\n",
    "        a = generateRandomString(l)\n",
    "        (enc,k) = self.encrypt1(pk,m,a)\n",
    "        return (enc,k)\n",
    "    \n",
    "    def encrypt1(self,pk,a,m):\n",
    "        (enc,k) = kem.encapsulation1(pk,concat(a,hash(m)))\n",
    "        #print('encrypt1 - enc: ' + str(enc))\n",
    "        #print('encrypt1 - k: ' + str(k))\n",
    "        aux1 = concat(str(a),str(m))\n",
    "        #print('encrypt1 - aux1: ' + str(aux1))\n",
    "        aux2 = xor(int(aux1),int(k))\n",
    "        #print('encrypt1 - aux2: ' + str(aux2))\n",
    "        return (enc,aux2)\n",
    "    \n",
    "    def decrypt(self,sk,c):\n",
    "        (enc,m1) = c\n",
    "        k = kem.reveal(sk,enc)\n",
    "        print('decrypt- k: ' + str(k))\n",
    "        am = xor(m1,k)\n",
    "        a = am[0:l]\n",
    "        m = am[l:]\n",
    "        if(c == encrypt1(pk,a,m)):\n",
    "            return m\n",
    "        else: \n",
    "            return false"
   ]
  },
  {
   "cell_type": "code",
   "execution_count": 103,
   "metadata": {},
   "outputs": [
    {
     "name": "stdout",
     "output_type": "stream",
     "text": [
      "t: -546709695712292876\n",
      "m1: 123\n",
      "encapsulation1- enc: 34138735907658759486028221098560856817124240105514369757201587411764649161810092426474511545306606025800011948432074865097068524393705912246079243119525204007979925590255543179339947363179430965777005003359825908086486412311101222512261511661902041738340383775052163349843779971770639417528020113806688507963189421654553338062983506152392846089574131710545414779264817753301896817198516601396888770076665691128492202697252750292709070437214547756917687618210827272647806381774960675021677369540644340621139991005624444602896720297931482967999582189496239382084770226010925677482616364955403125011590153900097352690945\n",
      "encapsulation1- k: 8837127428590078470\n",
      "k: 1231110000111101010111000001110100101000101100100001000000011011001011111000011001001101001000000110100111011011000011111001111100100001010110110111100000100111011110000110100100101100001100111010011100110111110100010000100000000010001111101010101001001101011101010000010100110000101101001001100101101110111000011100010100111100010111000010111000110111000011010001101111111000000111100011101100001010110101101143064584989492950044178848168543238914452582310370939846555403973129238945937970376427303737247869189746366228651572983837116606520436024587354732890014930303531655746079239570757527261613175622987332415562424942372368575686854768671246017611159618342689565638475838824198162294448999562745638300379261131829525435812777188090978318771843605959689481474835440808907113302088604404997348246153956083693074257644083564089209259834013967977005946723087541085021361681006521886709262301501991651120620472570350248745567079545122829591564048929346733171274486510458401611732822539864502411898209646394687890800689101282273\n"
     ]
    },
    {
     "ename": "TypeError",
     "evalue": "'long' object has no attribute '__getitem__'",
     "output_type": "error",
     "traceback": [
      "\u001b[0;31m---------------------------------------------------------------------------\u001b[0m",
      "\u001b[0;31mTypeError\u001b[0m                                 Traceback (most recent call last)",
      "\u001b[0;32m<ipython-input-103-9377166cdeef>\u001b[0m in \u001b[0;36m<module>\u001b[0;34m()\u001b[0m\n\u001b[1;32m     15\u001b[0m \u001b[0menc\u001b[0m\u001b[0;34m,\u001b[0m\u001b[0mk\u001b[0m \u001b[0;34m=\u001b[0m \u001b[0mc\u001b[0m\u001b[0;34m\u001b[0m\u001b[0m\n\u001b[1;32m     16\u001b[0m \u001b[0;32mprint\u001b[0m\u001b[0;34m(\u001b[0m\u001b[0;34m'k: '\u001b[0m\u001b[0;34m+\u001b[0m \u001b[0mstr\u001b[0m\u001b[0;34m(\u001b[0m\u001b[0mk\u001b[0m\u001b[0;34m)\u001b[0m\u001b[0;34m)\u001b[0m\u001b[0;34m\u001b[0m\u001b[0m\n\u001b[0;32m---> 17\u001b[0;31m \u001b[0mc2\u001b[0m \u001b[0;34m=\u001b[0m \u001b[0mfot\u001b[0m\u001b[0;34m.\u001b[0m\u001b[0mdecrypt\u001b[0m\u001b[0;34m(\u001b[0m\u001b[0msk\u001b[0m\u001b[0;34m,\u001b[0m\u001b[0mc\u001b[0m\u001b[0;34m)\u001b[0m\u001b[0;34m\u001b[0m\u001b[0m\n\u001b[0m\u001b[1;32m     18\u001b[0m \u001b[0;32mprint\u001b[0m\u001b[0;34m(\u001b[0m\u001b[0mc2\u001b[0m\u001b[0;34m)\u001b[0m\u001b[0;34m\u001b[0m\u001b[0m\n",
      "\u001b[0;32m<ipython-input-101-c8eb1c71241d>\u001b[0m in \u001b[0;36mdecrypt\u001b[0;34m(self, sk, c)\u001b[0m\n\u001b[1;32m     22\u001b[0m         \u001b[0mk\u001b[0m \u001b[0;34m=\u001b[0m \u001b[0mkem\u001b[0m\u001b[0;34m.\u001b[0m\u001b[0mreveal\u001b[0m\u001b[0;34m(\u001b[0m\u001b[0msk\u001b[0m\u001b[0;34m,\u001b[0m\u001b[0menc\u001b[0m\u001b[0;34m)\u001b[0m\u001b[0;34m\u001b[0m\u001b[0m\n\u001b[1;32m     23\u001b[0m         \u001b[0mam\u001b[0m \u001b[0;34m=\u001b[0m \u001b[0mxor\u001b[0m\u001b[0;34m(\u001b[0m\u001b[0mm1\u001b[0m\u001b[0;34m,\u001b[0m\u001b[0mk\u001b[0m\u001b[0;34m)\u001b[0m\u001b[0;34m\u001b[0m\u001b[0m\n\u001b[0;32m---> 24\u001b[0;31m         \u001b[0ma\u001b[0m \u001b[0;34m=\u001b[0m \u001b[0mam\u001b[0m\u001b[0;34m[\u001b[0m\u001b[0mInteger\u001b[0m\u001b[0;34m(\u001b[0m\u001b[0;36m0\u001b[0m\u001b[0;34m)\u001b[0m\u001b[0;34m:\u001b[0m\u001b[0ml\u001b[0m\u001b[0;34m]\u001b[0m\u001b[0;34m\u001b[0m\u001b[0m\n\u001b[0m\u001b[1;32m     25\u001b[0m         \u001b[0mm\u001b[0m \u001b[0;34m=\u001b[0m \u001b[0mam\u001b[0m\u001b[0;34m[\u001b[0m\u001b[0ml\u001b[0m\u001b[0;34m:\u001b[0m\u001b[0;34m]\u001b[0m\u001b[0;34m\u001b[0m\u001b[0m\n\u001b[1;32m     26\u001b[0m         \u001b[0;32mif\u001b[0m\u001b[0;34m(\u001b[0m\u001b[0mc\u001b[0m \u001b[0;34m==\u001b[0m \u001b[0mencrypt1\u001b[0m\u001b[0;34m(\u001b[0m\u001b[0mpk\u001b[0m\u001b[0;34m,\u001b[0m\u001b[0ma\u001b[0m\u001b[0;34m,\u001b[0m\u001b[0mm\u001b[0m\u001b[0;34m)\u001b[0m\u001b[0;34m)\u001b[0m\u001b[0;34m:\u001b[0m\u001b[0;34m\u001b[0m\u001b[0m\n",
      "\u001b[0;31mTypeError\u001b[0m: 'long' object has no attribute '__getitem__'"
     ]
    }
   ],
   "source": [
    "pke = PKE()\n",
    "\n",
    "fot = FOT()\n",
    "pk = e\n",
    "sk = s\n",
    "\n",
    "m = 123\n",
    "c = pke.encrypt(pk,m)\n",
    "(enc,t) = c\n",
    "print('t: ' + str(t))\n",
    "m1 = pke.decrypt(sk,c)\n",
    "print('m1: ' + str(m1))\n",
    "\n",
    "c = fot.encrypt(pk,m)\n",
    "enc,k = c\n",
    "print('k: '+ str(k))\n",
    "c2 = fot.decrypt(sk,c)\n",
    "print(c2)"
   ]
  },
  {
   "cell_type": "code",
   "execution_count": 33,
   "metadata": {},
   "outputs": [
    {
     "ename": "NameError",
     "evalue": "name 'randstring' is not defined",
     "output_type": "error",
     "traceback": [
      "\u001b[0;31m---------------------------------------------------------------------------\u001b[0m",
      "\u001b[0;31mNameError\u001b[0m                                 Traceback (most recent call last)",
      "\u001b[0;32m<ipython-input-33-ef85094e3f4f>\u001b[0m in \u001b[0;36m<module>\u001b[0;34m()\u001b[0m\n\u001b[0;32m----> 1\u001b[0;31m \u001b[0ma\u001b[0m \u001b[0;34m=\u001b[0m \u001b[0mrandstring\u001b[0m\u001b[0;34m(\u001b[0m\u001b[0mInteger\u001b[0m\u001b[0;34m(\u001b[0m\u001b[0;36m5\u001b[0m\u001b[0;34m)\u001b[0m\u001b[0;34m)\u001b[0m\u001b[0;34m\u001b[0m\u001b[0m\n\u001b[0m",
      "\u001b[0;31mNameError\u001b[0m: name 'randstring' is not defined"
     ]
    }
   ],
   "source": [
    "a = randstring(5)"
   ]
  },
  {
   "cell_type": "code",
   "execution_count": 49,
   "metadata": {},
   "outputs": [
    {
     "name": "stdout",
     "output_type": "stream",
     "text": [
      "0100\n"
     ]
    }
   ],
   "source": [
    "\n",
    "\n",
    "stream = generateRandomString(4)\n",
    "print(stream)"
   ]
  },
  {
   "cell_type": "code",
   "execution_count": null,
   "metadata": {},
   "outputs": [],
   "source": []
  }
 ],
 "metadata": {
  "kernelspec": {
   "display_name": "SageMath 8.9",
   "language": "sage",
   "name": "sagemath"
  },
  "language_info": {
   "codemirror_mode": {
    "name": "ipython",
    "version": 2
   },
   "file_extension": ".py",
   "mimetype": "text/x-python",
   "name": "python",
   "nbconvert_exporter": "python",
   "pygments_lexer": "ipython2",
   "version": "2.7.15"
  }
 },
 "nbformat": 4,
 "nbformat_minor": 2
}
