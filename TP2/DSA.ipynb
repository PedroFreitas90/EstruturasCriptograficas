{
 "cells": [
  {
   "cell_type": "markdown",
   "metadata": {},
   "source": [
    "System Pamaters:\n",
    "* **H** - Hash - hashes.SHA256()\n",
    "* **p** - Primo\n",
    "* **g** - 0<g<p tal que g é um gerador\n",
    "\n",
    "Gerar Chave:\n",
    "* **x** - Aleatório tal que 1 < x < p-1\n",
    "* **y** - pow(g,x,p)\n",
    "* **PublicKey** - (p,g,y)\n",
    "* **SecreteKey** - x\n",
    "\n",
    "Assinatura:\n",
    "* **k** - aleaório tal que: 0<k<p-1 e gcd(k,p-1)=1\n",
    "* **r** - g^k mod p\n",
    "* **s** - (H(m)-xr) * (k^-1 mod(p-1)) and s>0\n",
    "* **assinatura** - (r,s)\n",
    "\n",
    "\n",
    "Verificação:\n",
    "* **1º Passo** - 0<r<p and 0<s<p-1\n",
    "* **2º Passo** - g^H(m) == y^r * r^s mod(p) "
   ]
  },
  {
   "cell_type": "code",
   "execution_count": 1,
   "metadata": {},
   "outputs": [],
   "source": [
    "def generateP(tam):\n",
    "    p = random_prime(2^tam)\n",
    "    print(\"p: \"+ str(p))\n",
    "    return p"
   ]
  },
  {
   "cell_type": "code",
   "execution_count": 2,
   "metadata": {},
   "outputs": [],
   "source": [
    "def generateG(p):\n",
    "    g = randint(1,p-1)\n",
    "    print(\"g: \"+ str(g))\n",
    "    return g"
   ]
  },
  {
   "cell_type": "code",
   "execution_count": 3,
   "metadata": {},
   "outputs": [],
   "source": [
    "def generateParameters(tam):\n",
    "    p = generateP(tam)\n",
    "    g = generateG(p)\n",
    "    return p,g"
   ]
  },
  {
   "cell_type": "code",
   "execution_count": 4,
   "metadata": {},
   "outputs": [],
   "source": [
    "def generateX(p):\n",
    "    x = randint(2,p-2)\n",
    "    print('x: ' + str(x))\n",
    "    return x"
   ]
  },
  {
   "cell_type": "code",
   "execution_count": 5,
   "metadata": {},
   "outputs": [],
   "source": [
    "def generateKey(p,g):\n",
    "    x = generateX(p)\n",
    "    \n",
    "    y =pow(g,x,p)\n",
    "    print('y: ' + str(y))\n",
    "    \n",
    "    publicKey = createPublicKey(p,g,y)\n",
    "    \n",
    "    return publicKey,x    "
   ]
  },
  {
   "cell_type": "code",
   "execution_count": 6,
   "metadata": {},
   "outputs": [],
   "source": [
    "def createPublicKey(p,g,y):\n",
    "    publicKey = (p,g,y)\n",
    "    print('publicKey: ' + str(publicKey))\n",
    "    return publicKey"
   ]
  },
  {
   "cell_type": "code",
   "execution_count": 7,
   "metadata": {},
   "outputs": [],
   "source": [
    "def signMessage(p,g,x,m):\n",
    "    k = generateK(p)\n",
    "    #g^k mod p\n",
    "    r = power_mod(g,k,p)\n",
    "    l = power_mod(k,-1,p-1)\n",
    "    #h= hash(m)\n",
    "    #xr = x*r\n",
    "    #aux1 = h-xr\n",
    "    #print('aux1: ' + str(aux1))\n",
    "    #aux2=power_mod(k,-1,p-1) #s\n",
    "    #print('aux2: ' + str(aux2))\n",
    "    #aux = aux1*aux2\n",
    "    re = l*(m-r*x)\n",
    "    aux = power_mod(re,1,p-1)\n",
    "    if (aux < 0):\n",
    "        print('s < 0')\n",
    "        return ''\n",
    "    s = aux\n",
    "    signature = (r,s)\n",
    "    print('signature: ' + str(signature))\n",
    "    return signature"
   ]
  },
  {
   "cell_type": "code",
   "execution_count": 8,
   "metadata": {},
   "outputs": [],
   "source": [
    "def generateK(p):\n",
    "    while(true):\n",
    "        aux = randint(1,p-2)\n",
    "        if(gcd(aux,p-1)== 1):\n",
    "            print('found')\n",
    "            k = aux\n",
    "            break\n",
    "        print('next')\n",
    "    print(\"k: \"+ str(k))\n",
    "    return k"
   ]
  },
  {
   "cell_type": "code",
   "execution_count": 9,
   "metadata": {},
   "outputs": [],
   "source": [
    "def verifySignature(publicKey, m, signature):\n",
    "    (p,g,y) = publicKey\n",
    "    (r,s) = signature\n",
    "\n",
    "    if(r<0 or r > p):\n",
    "        print('Erro no tamanho de r')\n",
    "        return False\n",
    "    if(s<0 or s > p-1):\n",
    "        print('Erro no tamanho de s')\n",
    "        return False\n",
    "    \n",
    "    cal1 = y^r\n",
    "    print('tenho cal1')\n",
    "    cal2 = r^s\n",
    "    print('tenho cal2')\n",
    "    cal = cal1*cal2\n",
    "    print('tenho cal')\n",
    "    print('cal: ' +str(cal))\n",
    "    \n",
    "    val1= power_mod(cal,1,p)\n",
    "    print('val1: ' + str(val1))\n",
    "    val2 = power_mod(g,m,p)\n",
    "    print('val2: ' + str(val2))\n",
    "    \n",
    "    if(val1==val2):\n",
    "        return True\n",
    "    else:\n",
    "        return False"
   ]
  },
  {
   "cell_type": "code",
   "execution_count": 12,
   "metadata": {},
   "outputs": [],
   "source": [
    "def main():\n",
    "    p,g = generateParameters(32)\n",
    "    \n",
    "    publicKey, x = generateKey(p,g)\n",
    "    \n",
    "    m= 123\n",
    "    signature = signMessage(p,g,x,m)\n",
    "    \n",
    "    value = verifySignature(publicKey,m,signature)\n",
    "    print('value: ' + str(value))\n",
    "    "
   ]
  },
  {
   "cell_type": "code",
   "execution_count": null,
   "metadata": {},
   "outputs": [],
   "source": [
    "main()"
   ]
  },
  {
   "cell_type": "code",
   "execution_count": null,
   "metadata": {},
   "outputs": [],
   "source": []
  }
 ],
 "metadata": {
  "kernelspec": {
   "display_name": "SageMath 8.9",
   "language": "sage",
   "name": "sagemath"
  },
  "language_info": {
   "codemirror_mode": {
    "name": "ipython",
    "version": 2
   },
   "file_extension": ".py",
   "mimetype": "text/x-python",
   "name": "python",
   "nbconvert_exporter": "python",
   "pygments_lexer": "ipython2",
   "version": "2.7.15"
  }
 },
 "nbformat": 4,
 "nbformat_minor": 2
}
