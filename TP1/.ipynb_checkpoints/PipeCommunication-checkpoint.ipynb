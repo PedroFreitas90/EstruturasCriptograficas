{
 "cells": [
  {
   "cell_type": "markdown",
   "metadata": {},
   "source": [
    "# PipeCommunication"
   ]
  },
  {
   "cell_type": "markdown",
   "metadata": {},
   "source": [
    "Esta classe é responsável por implementar comunicação entre duas entidades.\n",
    "\n",
    "Esta classe necessita de receber pelo menos as duas entidades (por conveniência, vamos assumir que cada entidade é uma função), sendo opcionalmente o fornecimento de um timeout para a comunicação. A cada entidade é lhe atribuída uma extremidade do Pipe. Depois vamos criar um processo para cada entidade, processo este que terá como target (ou seja, vai realizar essa função) a entidade em si e cujo argumento será a extremidade anteriormente atribuída (a função vai ser aplicada àquela extremidade).\n",
    "\n",
    "Esta classe tem um método `run()` que é responsável por fazer correr os processos criados."
   ]
  },
  {
   "cell_type": "code",
   "execution_count": 1,
   "metadata": {},
   "outputs": [],
   "source": [
    "from multiprocessing import Pipe, Process"
   ]
  },
  {
   "cell_type": "code",
   "execution_count": 2,
   "metadata": {},
   "outputs": [],
   "source": [
    "class PipeCommunication():\n",
    "    def __init__(self,leftE, rigthE, timeout=None):\n",
    "        '''\n",
    "            Classe responsável por ligar 2 entidades através de um Pipe para poderem comunicar entre si.\n",
    "            A cada entidade será atribuída uma extremidado do pipe.\n",
    "            Será criado um processo para cada entidade onde o processo terá como alvo a entidade respetiva e \n",
    "                passar-lhe-á como argumento a extremidade da conexão que lhe é correspondente. \n",
    "        '''\n",
    "        left_end, right_end = Pipe()\n",
    "        if (timeout == None):\n",
    "            self.timeout = 30\n",
    "        else:\n",
    "            self.timeout = timeout\n",
    "        self.left_process = Process(target = leftE, args=(left_end,))\n",
    "        self.right_process = Process(target = rightE , args=(right_end,))\n",
    "        \n",
    "    def run(self):\n",
    "        self.left_process.start()\n",
    "        self.right_process.start()\n",
    "        self.left_process.join(self.timeout)\n",
    "        self.right_process.join(self.timeout) "
   ]
  },
  {
   "cell_type": "markdown",
   "metadata": {},
   "source": [
    "A célula seguinte é uma célula de teste."
   ]
  },
  {
   "cell_type": "code",
   "execution_count": 3,
   "metadata": {},
   "outputs": [],
   "source": [
    "def leftE(conn):\n",
    "    print('LeftE: I am leftE! Sending message!')\n",
    "    conn.send(b'Ola eu sou a entidade da Esquerda!')\n",
    "    conn.close()"
   ]
  },
  {
   "cell_type": "markdown",
   "metadata": {},
   "source": [
    "A célula seguinte é célula de teste."
   ]
  },
  {
   "cell_type": "code",
   "execution_count": 4,
   "metadata": {},
   "outputs": [],
   "source": [
    "def rightE(conn):\n",
    "    print('RightE: Eu sou a RightE! Receiveng messages!')\n",
    "    msg = conn.recv()\n",
    "    print('RightE leu: ' + msg.decode())\n",
    "    conn.close()\n",
    "    try:\n",
    "        print(conn.recv())\n",
    "    except: \n",
    "        print('Conexão já foi fechada! Não há nada para ler')"
   ]
  },
  {
   "cell_type": "code",
   "execution_count": 5,
   "metadata": {},
   "outputs": [],
   "source": [
    "def teste():\n",
    "    PipeCommunication(leftE, rightE, timeout=30).run()"
   ]
  },
  {
   "cell_type": "code",
   "execution_count": 6,
   "metadata": {},
   "outputs": [
    {
     "name": "stdout",
     "output_type": "stream",
     "text": [
      "LeftE: I am leftE! Sending message!\n",
      "RightE: Eu sou a RightE! Receiveng messages!\n",
      "RightE leu: Ola eu sou a entidade da Esquerda!\n",
      "Conexão já foi fechada! Não há nada para ler\n"
     ]
    }
   ],
   "source": [
    "teste()"
   ]
  }
 ],
 "metadata": {
  "kernelspec": {
   "display_name": "Python 3",
   "language": "python",
   "name": "python3"
  },
  "language_info": {
   "codemirror_mode": {
    "name": "ipython",
    "version": 3
   },
   "file_extension": ".py",
   "mimetype": "text/x-python",
   "name": "python",
   "nbconvert_exporter": "python",
   "pygments_lexer": "ipython3",
   "version": "3.7.6"
  }
 },
 "nbformat": 4,
 "nbformat_minor": 2
}
