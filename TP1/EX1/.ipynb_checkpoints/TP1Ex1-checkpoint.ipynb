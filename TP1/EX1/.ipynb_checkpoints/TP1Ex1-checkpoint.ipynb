{
 "cells": [
  {
   "cell_type": "code",
   "execution_count": 166,
   "metadata": {},
   "outputs": [],
   "source": [
    "from PipeCommunication import PipeCommunication\n",
    "\n",
    "from cryptography.exceptions import *\n",
    "\n",
    "from cryptography.hazmat.backends import default_backend\n",
    "\n",
    "from cryptography.hazmat.primitives import hashes, hmac, serialization\n",
    "from cryptography.hazmat.primitives.asymmetric import dh,dsa"
   ]
  },
  {
   "cell_type": "code",
   "execution_count": 167,
   "metadata": {},
   "outputs": [
    {
     "name": "stdout",
     "output_type": "stream",
     "text": [
      "Gerando os parâmetros para o Diffie-Hellman . . .\n",
      " . . . Parâmetros criados!\n",
      "\n",
      "Gerando agora os parâmetros para as assinaturas DSA . . .\n",
      " . . . Parâmetros criados!\n"
     ]
    }
   ],
   "source": [
    "print('Gerando os parâmetros para o Diffie-Hellman . . .')\n",
    "parameters_dh = dh.generate_parameters(generator=2, key_size=1024,backend=default_backend())\n",
    "print(' . . . Parâmetros criados!')\n",
    "print('')\n",
    "print('Gerando agora os parâmetros para as assinaturas DSA . . .')\n",
    "parameters_dsa = dsa.generate_parameters(key_size=1024,backend=default_backend())\n",
    "print(' . . . Parâmetros criados!')"
   ]
  },
  {
   "cell_type": "code",
   "execution_count": 168,
   "metadata": {},
   "outputs": [],
   "source": [
    "class DiffieHellman:\n",
    "    def generate_DH_PrivateKey(self):\n",
    "        private_key = parameters_dh.generate_private_key()\n",
    "        return private_key\n",
    "    \n",
    "    def generate_DH_PublicKey(self, private_key):\n",
    "        public_key = private_key.public_key()\n",
    "        return public_key\n",
    "    \n",
    "    def generate_DH_PublicBytes(self, public_key):\n",
    "        return public_key.public_bytes(\n",
    "            encoding=serialization.Encoding.PEM,\n",
    "            format=serialization.PublicFormat.SubjectPublicKeyInfo)"
   ]
  },
  {
   "cell_type": "markdown",
   "metadata": {},
   "source": [
    "#CÉLULAS DE TESTE\n",
    "#diffieH = DiffieHellman()\n",
    "\n",
    "#dh_privatek = diffieH.generate_DH_PrivateKey()\n",
    "#print(dh_privatek)\n",
    "\n",
    "#dh_publick = diffieH.generate_DH_PublicKey(dh_privatek)\n",
    "#print(dh_publick)\n",
    "\n",
    "#dh_publick_bytes = diffieH.generate_DH_PublicBytes(dh_publick)\n",
    "#print(dh_publick_bytes)"
   ]
  },
  {
   "cell_type": "code",
   "execution_count": 169,
   "metadata": {},
   "outputs": [],
   "source": [
    "class DSASignatures:\n",
    "    def generate_DSA_PrivateKey(self):\n",
    "        private_key = parameters_dsa.generate_private_key()\n",
    "        return private_key\n",
    "    \n",
    "    def generate_DSA_PublicKey(self,private_key):\n",
    "        public_key = private_key.public_key()\n",
    "        return public_key\n",
    "    \n",
    "    def generate_DSA_PublicBytes(self, public_key):\n",
    "        return public_key.public_bytes( \n",
    "            encoding=serialization.Encoding.PEM,\n",
    "            format=serialization.PublicFormat.SubjectPublicKeyInfo)\n",
    "    \n",
    "    def sign_message(self, message,own_private_key):\n",
    "        signature = own_private_key.sign(\n",
    "            message,\n",
    "            hashes.SHA256()\n",
    "        )\n",
    "        return signature\n",
    "    \n",
    "    def verify_Signature(self, message, signature, other_public_key):\n",
    "        other_public_key.verify(\n",
    "            signature,\n",
    "            message,\n",
    "            hashes.SHA256()\n",
    "        )"
   ]
  },
  {
   "cell_type": "markdown",
   "metadata": {},
   "source": [
    "#CÉLULAS DE TESTE\n",
    "#dsaSig = DSASignatures()\n",
    "#dsa_privatek = dsaSig.generate_DSA_PrivateKey()\n",
    "#print(dsa_privatek)\n",
    "#print('--------------')\n",
    "#dsa_publick = dsaSig.generate_DSA_PublicKey(dsa_privatek)\n",
    "#print(dsa_publick)\n",
    "#print('--------------')\n",
    "#dsa_publicBytes = dsaSig.generate_DSA_PublicBytes(dsa_publick)\n",
    "#print(dsa_publicBytes)\n",
    "#print('--------------')\n",
    "#message = b'welelele'\n",
    "#print(message)\n",
    "#print('--------------')\n",
    "#signature = dsaSig.sign_message(message, dsa_privatek)\n",
    "#print(signature)\n",
    "#print('--------------')\n",
    "#try:\n",
    " #value = dsaSig.verify_Signature(b'welelele',signature, dsa_publick)\n",
    "  #print('Assinatura aceite')\n",
    "#except:\n",
    "#print('Assinatura não confiável')"
   ]
  },
  {
   "cell_type": "code",
   "execution_count": 232,
   "metadata": {},
   "outputs": [],
   "source": [
    "def Emitter(conn):\n",
    "    print(' . . . Emitter: Iniciar Processo de DiffieHellman . . .\\n')\n",
    "    diffieHellman = DiffieHellman()\n",
    "    emitter_dh_privateKey = diffieHellman.generate_DH_PrivateKey()\n",
    "    #print(' . . . Emitter: Chave privada criada . . .\\n')\n",
    "    emitter_dh_publicKey = diffieHellman.generate_DH_PublicKey(emitter_dh_privateKey)\n",
    "    #print(' . . . Emitter: Chave pública criada . . .\\n')\n",
    "    print(' . . . Emitter: Enviando a minha chave pública . . .\\n')\n",
    "    conn.send(diffieHellman.generate_DH_PublicBytes(emitter_dh_publicKey))\n",
    "    print(' . . . Emitter: Esperando a chave pública do Receiver . . .\\n')\n",
    "    receiver_dh_public_key = conn.recv()\n",
    "    print(' . . . Emitter: Já obtive a chave pública do Receiver . . .\\n ')\n",
    "    #print(receiver_dh_public_key)\n",
    "    \n",
    "    \n",
    "    \n",
    "    emitter_dh_shared_key = emitter_dh_privateKey.exchange(serialization.load_pem_public_key(\n",
    "            receiver_dh_public_key,\n",
    "            backend = default_backend()))\n",
    "    print(' . . . Emitter: shared key ->' + str(emitter_dh_shared_key) + ' . . . ')\n",
    "    \n",
    "    conn.close()\n",
    "    "
   ]
  },
  {
   "cell_type": "code",
   "execution_count": 233,
   "metadata": {},
   "outputs": [],
   "source": [
    "def Receiver(conn):\n",
    "    print(' - - - Receiver: Iniciar Processo de DiffieHellman - - -\\n')\n",
    "    diffieHellman = DiffieHellman()\n",
    "    receiver_dh_privateKey = diffieHellman.generate_DH_PrivateKey()\n",
    "    #print(' - - -  Receiver: Chave privada criada - - - \\n')\n",
    "    receiver_dh_publicKey = diffieHellman.generate_DH_PublicKey(receiver_dh_privateKey)\n",
    "    #print(' - - -  Receiver: Chave pública criada - - - ')\n",
    "    print(' - - - Receiver: Esperando chave pública do Emitter - - - \\n')\n",
    "    emitter_dh_public_key = conn.recv()\n",
    "    #print(' - - -  Receiver: Já obtive a chave pública do Emitter - - - \\n ')\n",
    "    #print(emitter_dh_public_key)\n",
    "    print(' - - - Receiver: Enviando a minha chave pública - - - \\n')\n",
    "    conn.send(diffieHellman.generate_DH_PublicBytes(receiver_dh_publicKey))\n",
    "    conn.close()\n",
    "    \n",
    "    receiver_dh_shared_key = receiver_dh_privateKey.exchange(serialization.load_pem_public_key(\n",
    "            emitter_dh_public_key,\n",
    "            backend=default_backend()))\n",
    "    print(' - - - Receiver: shared key -> ' + str(receiver_dh_shared_key) + ' - - - ')\n",
    "    "
   ]
  },
  {
   "cell_type": "code",
   "execution_count": 234,
   "metadata": {},
   "outputs": [],
   "source": [
    "def main():\n",
    "    PipeCommunication(Emitter,Receiver,timeout=300).run()"
   ]
  },
  {
   "cell_type": "code",
   "execution_count": 235,
   "metadata": {},
   "outputs": [
    {
     "name": "stdout",
     "output_type": "stream",
     "text": [
      " . . . Emitter: Iniciar Processo de DiffieHellman . . .\n",
      " - - - Receiver: Iniciar Processo de DiffieHellman - - -\n",
      "\n",
      "\n",
      " . . . Emitter: Enviando a minha chave pública . . .\n",
      "\n",
      " - - - Receiver: Esperando chave pública do Emitter - - - \n",
      " . . . Emitter: Esperando a chave pública do Receiver . . .\n",
      "\n",
      "\n",
      " - - - Receiver: Enviando a minha chave pública - - - \n",
      "\n",
      " . . . Emitter: Já obtive a chave pública do Receiver . . .\n",
      "  - - - Receiver: shared key -> b'\\xef\\xaa\\x1e\\xd0\\x82\\xde)\\xa2\\xf1[\\xeb\\x06\\xb9?\\x9b!\\xe5\\x9c\\x06\\xa5\\xcag1\\x99\\x04\\xf4\\xc5C\\xe5\\xfc\\xc7TO?7\\x11\\xf8\\x1dvK\\x88\\x1b\\x87\\xe6\\x07eS\\x86\\xc2T\\xc3\\xbf\\xb8\\x1cI\\xb3\\x90\\xe0\\xed%.PP\\xaa\\xaf,\\xd06\\xfan\"^r\\xc1J\\n{\\x1d(\\xd8\\xa1[\\x1bg\\xe5o\\xefX\\xc1\\xf6_{D\\xe7\\x91}\\xea\\xc8\\x8dT\\xc8\\xffmV\\xbb\\xe1\\xc8B\\t\\xe3\\x14\\xa4\\x7f\\x15I0\\x11\\xca?\\x13\\xf6\\xa3\\xa1pE\\x1a\\xe5\\xf6' - - - \n",
      "\n",
      " . . . Emitter: shared key ->b'\\xef\\xaa\\x1e\\xd0\\x82\\xde)\\xa2\\xf1[\\xeb\\x06\\xb9?\\x9b!\\xe5\\x9c\\x06\\xa5\\xcag1\\x99\\x04\\xf4\\xc5C\\xe5\\xfc\\xc7TO?7\\x11\\xf8\\x1dvK\\x88\\x1b\\x87\\xe6\\x07eS\\x86\\xc2T\\xc3\\xbf\\xb8\\x1cI\\xb3\\x90\\xe0\\xed%.PP\\xaa\\xaf,\\xd06\\xfan\"^r\\xc1J\\n{\\x1d(\\xd8\\xa1[\\x1bg\\xe5o\\xefX\\xc1\\xf6_{D\\xe7\\x91}\\xea\\xc8\\x8dT\\xc8\\xffmV\\xbb\\xe1\\xc8B\\t\\xe3\\x14\\xa4\\x7f\\x15I0\\x11\\xca?\\x13\\xf6\\xa3\\xa1pE\\x1a\\xe5\\xf6' . . . \n"
     ]
    }
   ],
   "source": [
    "main()"
   ]
  },
  {
   "cell_type": "code",
   "execution_count": null,
   "metadata": {},
   "outputs": [],
   "source": []
  }
 ],
 "metadata": {
  "kernelspec": {
   "display_name": "Python 3",
   "language": "python",
   "name": "python3"
  },
  "language_info": {
   "codemirror_mode": {
    "name": "ipython",
    "version": 3
   },
   "file_extension": ".py",
   "mimetype": "text/x-python",
   "name": "python",
   "nbconvert_exporter": "python",
   "pygments_lexer": "ipython3",
   "version": "3.7.6"
  }
 },
 "nbformat": 4,
 "nbformat_minor": 2
}
