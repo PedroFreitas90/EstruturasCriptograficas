{
 "cells": [
  {
   "cell_type": "markdown",
   "metadata": {},
   "source": [
    "# qTESLA"
   ]
  },
  {
   "cell_type": "code",
   "execution_count": 1,
   "metadata": {},
   "outputs": [],
   "source": [
    "import hashlib\n",
    "import random\n",
    "import math"
   ]
  },
  {
   "cell_type": "markdown",
   "metadata": {},
   "source": [
    "## Parâmetros e Anéis"
   ]
  },
  {
   "cell_type": "code",
   "execution_count": 2,
   "metadata": {},
   "outputs": [],
   "source": [
    "K = 256 \n",
    "k = 1 # sample\n",
    "n = 512 # dimensão\n",
    "q = 4205569 # módulo \n",
    "h = 30\n",
    "L_E = 1586 # limite de E\n",
    "L_S = 1586 # limite de S\n",
    "B = (2**20)-1 # intervalo de aleatoriedade na assinatura\n",
    "d = 21 # #bits aleatórios"
   ]
  },
  {
   "cell_type": "code",
   "execution_count": 3,
   "metadata": {},
   "outputs": [
    {
     "name": "stdout",
     "output_type": "stream",
     "text": [
      "Univariate Quotient Polynomial Ring in x over Integer Ring with modulus x^512 + 1\n",
      "Univariate Quotient Polynomial Ring in y over Finite Field of size 4205569 with modulus y^512 + 1\n"
     ]
    }
   ],
   "source": [
    "Zx.<x> = ZZ[]\n",
    "R.<x> = Zx.quotient(x^n + 1)\n",
    "print(R)\n",
    "\n",
    "Fq = GF(q)\n",
    "Fqy.<y> = Fq[]\n",
    "Rq.<y> = Fqy.quotient(y^n + 1)\n",
    "print(Rq)"
   ]
  },
  {
   "cell_type": "markdown",
   "metadata": {},
   "source": [
    "## KeyGen"
   ]
  },
  {
   "cell_type": "markdown",
   "metadata": {},
   "source": [
    "### Funções Auxiliares\n",
    "\n",
    "De forma a podermos implementar uma versão da nossa geração de chaves foi necessário implementar-mos alguns algoritmos auxiliares que suportariam a função principal. \n",
    "\n",
    "Assim nesta célula encontraremos algoritmos que geram polinómios (**a,e,s** ) e ainda algoritmos que nos indicam a validade de um dado polinómio."
   ]
  },
  {
   "cell_type": "code",
   "execution_count": 4,
   "metadata": {},
   "outputs": [],
   "source": [
    "'''\n",
    "Gen_A() : Devolve um polinómio aleatório em Rq.\n",
    "Este é gerado através da função pré-definida $$ random_element() $$\n",
    "'''\n",
    "def Gen_A():\n",
    "    return Rq.random_element()\n",
    "\n",
    "\n",
    "'''\n",
    "generate_E(): Devolve um polinómio aleatório em Rq, com distribuição gaussiana.\n",
    "Este é gerado através da função pré-definida $$ random_element() $$ com o argumento $ distribution=\"gaussian\" $\n",
    "Ao polinómio gerado é aplicado um teste de limites através da função à frente implementada $$ checkE(e) $$\n",
    "'''\n",
    "def generate_E():\n",
    "    e = None\n",
    "    while True:\n",
    "        e = Rq.random_element(distribution=\"gaussian\")\n",
    "        if checkE(e) == 0:\n",
    "            return e\n",
    "\n",
    "\n",
    "'''\n",
    "checkE(e): Recebe um polinómio em Rq com distribuição gaussiana e devolve um inteiro que representa se este é válido\n",
    "ou não.\n",
    "Ao polinómio recebido como argumento, aplicamos uma transformação para lista de coeficientes ordenados por ordem\n",
    "decrescente.\n",
    "Depois fazemos a soma dos **h** maiores elementos e verificamos se estes são menores que o limite definido nos\n",
    "parâmetros **L_E**.\n",
    "'''\n",
    "def checkE(e):\n",
    "    my_sum = 0\n",
    "    e_list = list(e)\n",
    "    e_list.sort(reverse=True)\n",
    "    for i in range(0,h):\n",
    "        my_sum += e_list[i]\n",
    "    \n",
    "    if my_sum > L_E:\n",
    "        return 1\n",
    "    return 0\n",
    "\n",
    "\n",
    "'''\n",
    "generate_S(): Devolve um polinómio aleatório em Rq, com distribuição gaussiana.\n",
    "Este é gerado através da função pré-definida $$ random_element() $$ com o argumento $ distribution=\"gaussian\" $\n",
    "Ao polinómio gerado é aplicado um teste de limites através da função à frente implementada $$ checkS(s) $$\n",
    "'''\n",
    "def generate_S():\n",
    "    s = None\n",
    "    while True:\n",
    "        s = Rq.random_element(distribution=\"gaussian\")\n",
    "        if checkS(s) == 0:\n",
    "            return s\n",
    "\n",
    "\n",
    "'''\n",
    "checkS(s): Recebe um polinómio em Rq com distribuição gaussiana e devolve um inteiro que representa se este é válido\n",
    "ou não.\n",
    "Ao polinómio recebido como argumento, aplicamos uma transformação para lista de coeficientes ordenados por ordem\n",
    "decrescente.\n",
    "Depois fazemos a soma dos **h** maiores elementos e verificamos se estes são menores que o limite definido nos\n",
    "parâmetros **L_S**.\n",
    "'''\n",
    "def checkS(s):\n",
    "    my_sum = 0\n",
    "    s_list = list(s)\n",
    "    s_list.sort(reverse=True)\n",
    "    for i in range(0,h):\n",
    "        my_sum += s_list[i]\n",
    "    \n",
    "    if my_sum > L_S:\n",
    "        return 1\n",
    "    return 0"
   ]
  },
  {
   "cell_type": "markdown",
   "metadata": {},
   "source": [
    "### Função key_generation\n",
    "Esta é a função resonsável pela geração das chaves públicas e secretas.\n",
    "\n",
    "Esta versão é uma versão simplificada da apresentada no documento do esquema submetido ao concurso NIST, visto que estamos a implementar no SageMath. Esta simplificação passou por não recorrer às seeds(tal como era sugerido no documento) e recorrermos aos polinómios e a alguns métodos que os anéis oferecem.\n",
    "\n",
    "Assim começamos por gerar o polinómio `a` que é aleatóriamente gerado através do anel (como foi mostrado na implementação acima) , assim como os polinómios `s` e `e`.\n",
    "\n",
    "Depois calculamos então o polinómio `t` representado: `t = a*s + e`.\n",
    "\n",
    "Por fim construímos as chaves secretas e privadas:\n",
    "* **sk** - (a,e,s)\n",
    "* **pk** - (t,a)"
   ]
  },
  {
   "cell_type": "code",
   "execution_count": 5,
   "metadata": {},
   "outputs": [
    {
     "name": "stdout",
     "output_type": "stream",
     "text": [
      "\n",
      "--- Starting KeyGen Process ---\n",
      "\n",
      "We have **polynomial a**\n",
      "We have **s**\n",
      "We have **e**\n",
      "We have **t**\n",
      "We have **sk**\n",
      "We have **pk**\n",
      "\n",
      "--- KeyGen Process Done ---\n",
      "\n"
     ]
    }
   ],
   "source": [
    "'''\n",
    "key_generation(): função que gera as chaves públicas e secretas.\n",
    "A chave secreta é composta pelos polinómios: ( a , e , s )\n",
    "A chave privada é composta pelos polinómios: ( t , a )\n",
    "'''\n",
    "\n",
    "def key_generation():\n",
    "    print('\\n--- Starting KeyGen Process ---\\n')\n",
    "    \n",
    "    a = Gen_A()\n",
    "    #print(a)\n",
    "    print('We have **polynomial a**')\n",
    "    \n",
    "    s = generate_S()\n",
    "    print('We have **s**')\n",
    "    \n",
    "    e = generate_E()\n",
    "    print('We have **e**')\n",
    "    \n",
    "    t = a*s + e\n",
    "    print('We have **t**')\n",
    "    \n",
    "    sk = (a,e,s)\n",
    "    #print(sk)\n",
    "    print('We have **sk**')\n",
    "    pk = (t,a)\n",
    "    #print(pk)\n",
    "    print('We have **pk**')\n",
    "    \n",
    "    print('\\n--- KeyGen Process Done ---\\n')\n",
    "    \n",
    "    return sk,pk\n",
    "\n",
    "(sk,pk) = key_generation()"
   ]
  },
  {
   "cell_type": "markdown",
   "metadata": {},
   "source": [
    "## Métodos auxiliares\n",
    "Para os processos de assinatura e verificação vamos precisar de alguns métodos e de transformação. \n",
    "Assim nesta célula vamos encontrar a implementação desses métodos."
   ]
  },
  {
   "cell_type": "code",
   "execution_count": 6,
   "metadata": {},
   "outputs": [],
   "source": [
    "'''\n",
    "lift_at_center(x) recebe como argumento um x e faz lift dele.\n",
    "'''\n",
    "def lift_at_center(x):\n",
    "    center = q//2\n",
    "    return lift(x+center) - center\n",
    "\n",
    "'''\n",
    "poly_round_to_center(poly) recebe como argumento um polinómio e retorna um novo polinómio cujos coeficientes foram\n",
    "transformados com a função $$ lift_at_center $$\n",
    "'''\n",
    "def poly_round_to_center(poly):\n",
    "    coefs = poly.list()\n",
    "    ret = []\n",
    "    for coef in coefs:\n",
    "        ret.append(Zx(lift_at_center(coef)))\n",
    "    return ret\n",
    "\n",
    "from sage.cpython.string import str_to_bytes\n",
    "'''\n",
    "hash(m) recebe uma mensagem m (em string) e calcula a hash da mesma\n",
    "'''\n",
    "def hash(m):\n",
    "    new_m = str_to_bytes(m)\n",
    "    h = hashlib.sha256()\n",
    "    h.update(new_m)\n",
    "    return h.digest()\n",
    "\n",
    "from sage.crypto.util import ascii_integer\n",
    "'''\n",
    "something_to_bin(inputs) recebe como argumento um input qualquer e transforma-o numa lista binária\n",
    "'''\n",
    "def something_to_bin(inputs):\n",
    "    bin = BinaryStrings()\n",
    "    return list(bin.encoding(str(inputs)))\n",
    "\n",
    "'''\n",
    "H(v,hash_m) recebe como argumento um polinómio v e a hash de uma mensagem.\n",
    "Com o polinómio v calculamos a lsita binária v; com o hash_m calculamos a lista binária da hash da mensagem e devolvemos\n",
    "o par (w,hash_m_list)\n",
    "'''\n",
    "def H(v,hash_m):\n",
    "    w = [None] * n\n",
    "    for i in range(n):\n",
    "        val = v[i] % 2^d\n",
    "        #val = mod(v[i],2^d)\n",
    "        if(val > 2^(d-1)):\n",
    "            val = val - 2^d\n",
    "        w[i] = (v[i] - val)/ (2^d)\n",
    "    hash_m_list = something_to_bin(hash_m)\n",
    "    return (w,hash_m_list)"
   ]
  },
  {
   "cell_type": "markdown",
   "metadata": {},
   "source": [
    "## Assinar uma mensagem"
   ]
  },
  {
   "cell_type": "markdown",
   "metadata": {},
   "source": [
    "### Funções auxiliares\n",
    "\n",
    "De forma a procedermos à assinatura de uma mensagem decidimos criar uma função auxiliar que calcula um dos parâmetros necessários para a assinatura."
   ]
  },
  {
   "cell_type": "code",
   "execution_count": 7,
   "metadata": {},
   "outputs": [],
   "source": [
    "'''\n",
    "calculate_Z(y,s,c1) recebe como argumento 2 polinómios (em Rq) e uma lista binária.\n",
    "Com a lista binária aplicamos uma transformação de modo a obtermos um polinómio e por fim calculamos o novo polinómio\n",
    "** z = y + s*c**\n",
    "'''\n",
    "\n",
    "def calculate_Z(y,s,c1):\n",
    "    c = Rq([c1[i] for i in range(n)])\n",
    "    return (y + s*c)"
   ]
  },
  {
   "cell_type": "markdown",
   "metadata": {},
   "source": [
    "### Sign_message\n",
    "Para assinarmos uma mensagem vamos precisar da mensagem e da chave secreta.\n",
    "\n",
    "Depois começamos por criar um polinómio com distribuição uniforme e localizado no intervalo [-B,B]. \n",
    "\n",
    "Depois multiplicamos os polinómios `a` e `y` e aplicamos um round_to_center a esse novo polinómio (obtendo assim `v`).\n",
    "\n",
    "Por fim calculamos `c=(c1,c2)` que pode ser obtido da função auxilar `H(v,hash_m)` que receberá como argumento o polinómio calculado e a hash da mensagem. \n",
    "\n",
    "A partir da primeira componente de `c` e dos polinómios `y`e `s` calculamos o novo polinómio `z`.\n",
    "\n",
    "A assinatura é então composta pelos polinómios `z`e `c`e ainda pela hash da mensagem m."
   ]
  },
  {
   "cell_type": "code",
   "execution_count": 8,
   "metadata": {},
   "outputs": [
    {
     "name": "stdout",
     "output_type": "stream",
     "text": [
      "\n",
      "--- Starting Signing Message Process ---\n",
      "\n",
      "We have **y**\n",
      "We have **v**\n",
      "We have **c**\n",
      "We have **z**\n",
      "We have **signature**\n",
      "\n",
      "--- Signing Message Process Done ---\n",
      "\n"
     ]
    }
   ],
   "source": [
    "'''\n",
    "sign_message(m,sk): recebe como argumento a mensagem e a chave secreta devolvendo a assinatura.\n",
    "'''\n",
    "\n",
    "def sign_message(m,sk):\n",
    "    print('\\n--- Starting Signing Message Process ---\\n')\n",
    "    \n",
    "    (a,e,s) = sk\n",
    "\n",
    "    y = Rq.random_element(x=-B, y = B+1, distribution='uniform')\n",
    "    print('We have **y**')\n",
    "    \n",
    "    v = poly_round_to_center(a*y)\n",
    "    print('We have **v**')\n",
    "\n",
    "    \n",
    "    (c1,c2) = H(v,hash(m))\n",
    "    c = (c1,c2)\n",
    "    print('We have **c**')\n",
    "    \n",
    "    z = calculate_Z(y,s,c1)\n",
    "    print('We have **z**')\n",
    "    \n",
    "    signature = (z,c)\n",
    "    print('We have **signature**')\n",
    "    \n",
    "    print('\\n--- Signing Message Process Done ---\\n')\n",
    "    return signature\n",
    "\n",
    "signature = sign_message('test',sk)\n",
    "#print(signature)"
   ]
  },
  {
   "cell_type": "markdown",
   "metadata": {},
   "source": [
    "## Verificar assinatura"
   ]
  },
  {
   "cell_type": "markdown",
   "metadata": {},
   "source": [
    "### Funções auxiliares\n",
    "Tal como para a assinatura foi necessário uma função auxiliar que nos calculasse o parâmetro `w`."
   ]
  },
  {
   "cell_type": "code",
   "execution_count": 9,
   "metadata": {},
   "outputs": [],
   "source": [
    "'''\n",
    "Recebe como parâmetros os polinómios *a* e *t* e a lista de coeficientes *z* e *c*.\n",
    "A partir das listas calculamos os respetivos polinómios. Depois fazer um round_to_center do polinómio resultante da\n",
    "operação: a*z + t*c\n",
    "'''\n",
    "\n",
    "def calculate_W(a,t,z,c):\n",
    "    poly_z = Rq([z[i] for i in range(n)])\n",
    "    poly_c = Rq([c[i] for i in range(n)])\n",
    "    \n",
    "    left = a*poly_z\n",
    "    right = t*poly_c\n",
    "    \n",
    "    w = poly_round_to_center(left-right)\n",
    "    return w"
   ]
  },
  {
   "cell_type": "markdown",
   "metadata": {},
   "source": [
    "### Verify_signature\n",
    "De forma a verificarmos uma assinatura vamos precisar da assinatura, da chave pública e da mensagem.\n",
    "\n",
    "Começamos por partir a assinatura e a chave pública nas respetivas componentes, assim como a componente `c` no par `(c1,c2)`.\n",
    "\n",
    "A partir daí calculamos o polinómio `w` com a função auxiliar `calculate_W(a,t,z,c1)` recebendo os polinómios `a`,`t` e as listas de coeficientes `z` e `c1`.\n",
    "\n",
    "Com esse novo polinómio `w` aplicamos a função `H()` com o polinómio de `w`e hash da mensagem `m` como argumentos. \n",
    "\n",
    "Com esse resultado podemos comparar c1 com a primeira componente do par resultante da operação em cima. Se estas forem iguais, a assinatura é válida (e inválida caso contrário)."
   ]
  },
  {
   "cell_type": "code",
   "execution_count": 10,
   "metadata": {},
   "outputs": [
    {
     "name": "stdout",
     "output_type": "stream",
     "text": [
      "\n",
      "--- Starting Signature Verification Process ---\n",
      "\n",
      "We have **w**\n",
      "\n",
      "Error in signature.\n",
      "\n",
      "--- Signature Verification Process Done ---\n",
      "\n"
     ]
    },
    {
     "data": {
      "text/plain": [
       "False"
      ]
     },
     "execution_count": 10,
     "metadata": {},
     "output_type": "execute_result"
    }
   ],
   "source": [
    "'''\n",
    "verify_signature(m,signature,pk) recebe como argumento a mensagem m, a assinatura e a chave pública devolvendo a\n",
    "vericidade da assiantura para a dada mensagem m.\n",
    "'''\n",
    "def verify_signature(m, signature, pk):\n",
    "    print('\\n--- Starting Signature Verification Process ---\\n')\n",
    "    \n",
    "    (z,c) = signature\n",
    "    (t,a) = pk\n",
    "    (c1,c2) = c\n",
    "    \n",
    "    w = calculate_W(a,t,z,c1)\n",
    "    \n",
    "    print('We have **w**')\n",
    "    \n",
    "    (hw1,hw2) = H(w,hash(m))\n",
    "    \n",
    "    \n",
    "    if c1!=hw1:\n",
    "        print('\\nError in signature.')\n",
    "        print('\\n--- Signature Verification Process Done ---\\n')\n",
    "        return False\n",
    "\n",
    "    else:\n",
    "        print('\\nSignature is valid.')\n",
    "        print('\\n--- Signature Verification Process Done---\\n')\n",
    "        return True\n",
    "    \n",
    "    \n",
    "    \n",
    "    \n",
    "verify_signature('test', signature, pk)"
   ]
  },
  {
   "cell_type": "code",
   "execution_count": null,
   "metadata": {},
   "outputs": [],
   "source": []
  }
 ],
 "metadata": {
  "kernelspec": {
   "display_name": "SageMath 9.0",
   "language": "sage",
   "name": "sagemath"
  },
  "language_info": {
   "codemirror_mode": {
    "name": "ipython",
    "version": 3
   },
   "file_extension": ".py",
   "mimetype": "text/x-python",
   "name": "python",
   "nbconvert_exporter": "python",
   "pygments_lexer": "ipython3",
   "version": "3.7.3"
  }
 },
 "nbformat": 4,
 "nbformat_minor": 2
}
